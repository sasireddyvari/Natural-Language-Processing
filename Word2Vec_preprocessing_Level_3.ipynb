{
  "nbformat": 4,
  "nbformat_minor": 0,
  "metadata": {
    "colab": {
      "name": "Word2Vec_preprocessing_Level 3.ipynb",
      "provenance": [],
      "authorship_tag": "ABX9TyPtfhm3eJMwDiSxIlRwUAVH",
      "include_colab_link": true
    },
    "kernelspec": {
      "name": "python3",
      "display_name": "Python 3"
    }
  },
  "cells": [
    {
      "cell_type": "markdown",
      "metadata": {
        "id": "view-in-github",
        "colab_type": "text"
      },
      "source": [
        "<a href=\"https://colab.research.google.com/github/sasireddyvari/Natural-Language-Processing/blob/master/Word2Vec_preprocessing_Level_3.ipynb\" target=\"_parent\"><img src=\"https://colab.research.google.com/assets/colab-badge.svg\" alt=\"Open In Colab\"/></a>"
      ]
    },
    {
      "cell_type": "markdown",
      "metadata": {
        "id": "zSWOnA6E4eai"
      },
      "source": [
        "BOW, TF- IDF has no semantic info and a chance of overfitting. Hence Word2Vec came into existence. It keeps each and every word is represented as 32 or more and keeps semantic info"
      ]
    },
    {
      "cell_type": "code",
      "metadata": {
        "id": "frfsBW083Nj6"
      },
      "source": [
        "import nltk\r\n",
        "from nltk.tokenize import sent_tokenize, word_tokenize\r\n",
        "from gensim.models import Word2Vec\r\n",
        "from nltk.corpus import stopwords\r\n",
        "import re"
      ],
      "execution_count": 7,
      "outputs": []
    },
    {
      "cell_type": "code",
      "metadata": {
        "id": "5mMMovqt7K9R"
      },
      "source": [
        "text='''Passion is always a greater motivating force than Intelligence.\r\n",
        "An intelligent person will accomplish what he knows but an intelligent person will achive what he wants to.\r\n",
        "The English Wikipedia is the English-language edition of the free online encyclopedia Wikipedia. Founded on 15 January 2001, it is the first edition of Wikipedia and, as of April 2019, has the most articles of any edition.[2] As of October 2020, 11% of articles in all Wikipedias belong to the English-language edition. This share has gradually declined from more than 50 percent in 2003, due to the growth of Wikipedias in other languages.[3] As of 29 October 2020'''"
      ],
      "execution_count": 28,
      "outputs": []
    },
    {
      "cell_type": "code",
      "metadata": {
        "id": "GTgMjV7o7dHo"
      },
      "source": [
        "text = re.sub(r'\\[[0-9]*\\]',' ',text) # containing [] values\r\n",
        "text = re.sub(r'\\s+',' ', text) # r indicates the pattern to be considered as a raw string\r\n",
        "text = text.lower()\r\n",
        "text = re.sub(r'\\d',' ',text)\r\n",
        "text = re.sub(r'\\s+',' ',text)\r\n",
        "text = re.sub('[^a-zA-Z]', ' ', text)"
      ],
      "execution_count": 29,
      "outputs": []
    },
    {
      "cell_type": "code",
      "metadata": {
        "colab": {
          "base_uri": "https://localhost:8080/",
          "height": 86
        },
        "id": "nEYjeuuD9en9",
        "outputId": "332991f0-d724-4c21-bd89-81d6eb43ed34"
      },
      "source": [
        "text"
      ],
      "execution_count": 42,
      "outputs": [
        {
          "output_type": "execute_result",
          "data": {
            "application/vnd.google.colaboratory.intrinsic+json": {
              "type": "string"
            },
            "text/plain": [
              "'passion is always a greater motivating force than intelligence  an intelligent person will accomplish what he knows but an intelligent person will achive what he wants to  the english wikipedia is the english language edition of the free online encyclopedia wikipedia  founded on january   it is the first edition of wikipedia and  as of april   has the most articles of any edition  as of october     of articles in all wikipedias belong to the english language edition  this share has gradually declined from more than percent in   due to the growth of wikipedias in other languages  as of october '"
            ]
          },
          "metadata": {
            "tags": []
          },
          "execution_count": 42
        }
      ]
    },
    {
      "cell_type": "code",
      "metadata": {
        "colab": {
          "base_uri": "https://localhost:8080/"
        },
        "id": "_KFkzfvb-zWy",
        "outputId": "faee536a-5ffa-42a0-a4b0-91fbd9025a0f"
      },
      "source": [
        "nltk.download('punkt')"
      ],
      "execution_count": 32,
      "outputs": [
        {
          "output_type": "stream",
          "text": [
            "[nltk_data] Downloading package punkt to /root/nltk_data...\n",
            "[nltk_data]   Unzipping tokenizers/punkt.zip.\n"
          ],
          "name": "stdout"
        },
        {
          "output_type": "execute_result",
          "data": {
            "text/plain": [
              "True"
            ]
          },
          "metadata": {
            "tags": []
          },
          "execution_count": 32
        }
      ]
    },
    {
      "cell_type": "code",
      "metadata": {
        "colab": {
          "base_uri": "https://localhost:8080/"
        },
        "id": "ybBlxtM3-jYh",
        "outputId": "91f50ed5-ec6f-4b80-be20-2531c0a7fd86"
      },
      "source": [
        "sentences= sent_tokenize(text)\r\n",
        "sentences"
      ],
      "execution_count": 43,
      "outputs": [
        {
          "output_type": "execute_result",
          "data": {
            "text/plain": [
              "['passion is always a greater motivating force than intelligence  an intelligent person will accomplish what he knows but an intelligent person will achive what he wants to  the english wikipedia is the english language edition of the free online encyclopedia wikipedia  founded on january   it is the first edition of wikipedia and  as of april   has the most articles of any edition  as of october     of articles in all wikipedias belong to the english language edition  this share has gradually declined from more than percent in   due to the growth of wikipedias in other languages  as of october']"
            ]
          },
          "metadata": {
            "tags": []
          },
          "execution_count": 43
        }
      ]
    },
    {
      "cell_type": "code",
      "metadata": {
        "id": "sKYFXtlR_rf9"
      },
      "source": [
        "sentences = [nltk.word_tokenize(sentence) for sentence in sentences]"
      ],
      "execution_count": 44,
      "outputs": []
    },
    {
      "cell_type": "code",
      "metadata": {
        "colab": {
          "base_uri": "https://localhost:8080/"
        },
        "id": "_oTzGcHu_t7W",
        "outputId": "6bbaebd9-b8c3-420e-c084-3bce4738c1bd"
      },
      "source": [
        "sentences"
      ],
      "execution_count": 45,
      "outputs": [
        {
          "output_type": "execute_result",
          "data": {
            "text/plain": [
              "[['passion',\n",
              "  'is',\n",
              "  'always',\n",
              "  'a',\n",
              "  'greater',\n",
              "  'motivating',\n",
              "  'force',\n",
              "  'than',\n",
              "  'intelligence',\n",
              "  'an',\n",
              "  'intelligent',\n",
              "  'person',\n",
              "  'will',\n",
              "  'accomplish',\n",
              "  'what',\n",
              "  'he',\n",
              "  'knows',\n",
              "  'but',\n",
              "  'an',\n",
              "  'intelligent',\n",
              "  'person',\n",
              "  'will',\n",
              "  'achive',\n",
              "  'what',\n",
              "  'he',\n",
              "  'wants',\n",
              "  'to',\n",
              "  'the',\n",
              "  'english',\n",
              "  'wikipedia',\n",
              "  'is',\n",
              "  'the',\n",
              "  'english',\n",
              "  'language',\n",
              "  'edition',\n",
              "  'of',\n",
              "  'the',\n",
              "  'free',\n",
              "  'online',\n",
              "  'encyclopedia',\n",
              "  'wikipedia',\n",
              "  'founded',\n",
              "  'on',\n",
              "  'january',\n",
              "  'it',\n",
              "  'is',\n",
              "  'the',\n",
              "  'first',\n",
              "  'edition',\n",
              "  'of',\n",
              "  'wikipedia',\n",
              "  'and',\n",
              "  'as',\n",
              "  'of',\n",
              "  'april',\n",
              "  'has',\n",
              "  'the',\n",
              "  'most',\n",
              "  'articles',\n",
              "  'of',\n",
              "  'any',\n",
              "  'edition',\n",
              "  'as',\n",
              "  'of',\n",
              "  'october',\n",
              "  'of',\n",
              "  'articles',\n",
              "  'in',\n",
              "  'all',\n",
              "  'wikipedias',\n",
              "  'belong',\n",
              "  'to',\n",
              "  'the',\n",
              "  'english',\n",
              "  'language',\n",
              "  'edition',\n",
              "  'this',\n",
              "  'share',\n",
              "  'has',\n",
              "  'gradually',\n",
              "  'declined',\n",
              "  'from',\n",
              "  'more',\n",
              "  'than',\n",
              "  'percent',\n",
              "  'in',\n",
              "  'due',\n",
              "  'to',\n",
              "  'the',\n",
              "  'growth',\n",
              "  'of',\n",
              "  'wikipedias',\n",
              "  'in',\n",
              "  'other',\n",
              "  'languages',\n",
              "  'as',\n",
              "  'of',\n",
              "  'october']]"
            ]
          },
          "metadata": {
            "tags": []
          },
          "execution_count": 45
        }
      ]
    },
    {
      "cell_type": "code",
      "metadata": {
        "colab": {
          "base_uri": "https://localhost:8080/"
        },
        "id": "cerWIFez_Kqe",
        "outputId": "b91d6a2f-eebd-49a8-b800-0e849328640c"
      },
      "source": [
        "nltk.download('stopwords')"
      ],
      "execution_count": 36,
      "outputs": [
        {
          "output_type": "stream",
          "text": [
            "[nltk_data] Downloading package stopwords to /root/nltk_data...\n",
            "[nltk_data]   Unzipping corpora/stopwords.zip.\n"
          ],
          "name": "stdout"
        },
        {
          "output_type": "execute_result",
          "data": {
            "text/plain": [
              "True"
            ]
          },
          "metadata": {
            "tags": []
          },
          "execution_count": 36
        }
      ]
    },
    {
      "cell_type": "code",
      "metadata": {
        "id": "8qmnJMAN-xnX"
      },
      "source": [
        "for i in range(len(sentences)):\r\n",
        "    sentences[i] = [word for word in sentences[i] if word not in stopwords.words('english')]"
      ],
      "execution_count": 46,
      "outputs": []
    },
    {
      "cell_type": "code",
      "metadata": {
        "id": "HXIkl331_IW_"
      },
      "source": [
        "model = Word2Vec(sentences, min_count=1)"
      ],
      "execution_count": 47,
      "outputs": []
    },
    {
      "cell_type": "code",
      "metadata": {
        "colab": {
          "base_uri": "https://localhost:8080/"
        },
        "id": "Eqxe3w0C_2jV",
        "outputId": "d238b903-bada-4022-e998-6f766f8c852e"
      },
      "source": [
        "words = model.wv.vocab\r\n",
        "words # has vectors of dimension"
      ],
      "execution_count": 48,
      "outputs": [
        {
          "output_type": "execute_result",
          "data": {
            "text/plain": [
              "{'accomplish': <gensim.models.keyedvectors.Vocab at 0x7f3661f9df98>,\n",
              " 'achive': <gensim.models.keyedvectors.Vocab at 0x7f3661f9de10>,\n",
              " 'always': <gensim.models.keyedvectors.Vocab at 0x7f3661f9d9b0>,\n",
              " 'april': <gensim.models.keyedvectors.Vocab at 0x7f3661f96da0>,\n",
              " 'articles': <gensim.models.keyedvectors.Vocab at 0x7f3661f96eb8>,\n",
              " 'belong': <gensim.models.keyedvectors.Vocab at 0x7f3661f96f98>,\n",
              " 'declined': <gensim.models.keyedvectors.Vocab at 0x7f3661f969b0>,\n",
              " 'due': <gensim.models.keyedvectors.Vocab at 0x7f3661f96278>,\n",
              " 'edition': <gensim.models.keyedvectors.Vocab at 0x7f3661f96c18>,\n",
              " 'encyclopedia': <gensim.models.keyedvectors.Vocab at 0x7f3661f96cf8>,\n",
              " 'english': <gensim.models.keyedvectors.Vocab at 0x7f3661f96668>,\n",
              " 'first': <gensim.models.keyedvectors.Vocab at 0x7f3661f96e10>,\n",
              " 'force': <gensim.models.keyedvectors.Vocab at 0x7f3661f9deb8>,\n",
              " 'founded': <gensim.models.keyedvectors.Vocab at 0x7f3661f96c50>,\n",
              " 'free': <gensim.models.keyedvectors.Vocab at 0x7f3661f96ba8>,\n",
              " 'gradually': <gensim.models.keyedvectors.Vocab at 0x7f3661f964a8>,\n",
              " 'greater': <gensim.models.keyedvectors.Vocab at 0x7f3661f9de80>,\n",
              " 'growth': <gensim.models.keyedvectors.Vocab at 0x7f3661f963c8>,\n",
              " 'intelligence': <gensim.models.keyedvectors.Vocab at 0x7f3661f9df60>,\n",
              " 'intelligent': <gensim.models.keyedvectors.Vocab at 0x7f3661f9da58>,\n",
              " 'january': <gensim.models.keyedvectors.Vocab at 0x7f3661f96cc0>,\n",
              " 'knows': <gensim.models.keyedvectors.Vocab at 0x7f3661f9dfd0>,\n",
              " 'language': <gensim.models.keyedvectors.Vocab at 0x7f3661f96b00>,\n",
              " 'languages': <gensim.models.keyedvectors.Vocab at 0x7f3661f966d8>,\n",
              " 'motivating': <gensim.models.keyedvectors.Vocab at 0x7f3661f9def0>,\n",
              " 'october': <gensim.models.keyedvectors.Vocab at 0x7f3661f96e48>,\n",
              " 'online': <gensim.models.keyedvectors.Vocab at 0x7f3661f96c88>,\n",
              " 'passion': <gensim.models.keyedvectors.Vocab at 0x7f3661f9d048>,\n",
              " 'percent': <gensim.models.keyedvectors.Vocab at 0x7f3661f967b8>,\n",
              " 'person': <gensim.models.keyedvectors.Vocab at 0x7f3661f9df28>,\n",
              " 'share': <gensim.models.keyedvectors.Vocab at 0x7f3661f96fd0>,\n",
              " 'wants': <gensim.models.keyedvectors.Vocab at 0x7f3661f9da90>,\n",
              " 'wikipedia': <gensim.models.keyedvectors.Vocab at 0x7f3661f96b70>,\n",
              " 'wikipedias': <gensim.models.keyedvectors.Vocab at 0x7f3661f96e80>}"
            ]
          },
          "metadata": {
            "tags": []
          },
          "execution_count": 48
        }
      ]
    },
    {
      "cell_type": "code",
      "metadata": {
        "id": "hoEyjZ_KAG2w"
      },
      "source": [
        "similar = model.wv.most_similar('passion')"
      ],
      "execution_count": 51,
      "outputs": []
    },
    {
      "cell_type": "code",
      "metadata": {
        "colab": {
          "base_uri": "https://localhost:8080/"
        },
        "id": "l3r96vlxATOy",
        "outputId": "866d3efa-4c0d-45c7-f568-14fc50e5c213"
      },
      "source": [
        "similar"
      ],
      "execution_count": 52,
      "outputs": [
        {
          "output_type": "execute_result",
          "data": {
            "text/plain": [
              "[('january', 0.2682828903198242),\n",
              " ('april', 0.23684900999069214),\n",
              " ('free', 0.2132294476032257),\n",
              " ('encyclopedia', 0.10025961697101593),\n",
              " ('october', 0.08696836233139038),\n",
              " ('language', 0.07694263756275177),\n",
              " ('english', 0.07410155981779099),\n",
              " ('intelligence', 0.06870000064373016),\n",
              " ('intelligent', 0.06739392876625061),\n",
              " ('founded', 0.06417077034711838)]"
            ]
          },
          "metadata": {
            "tags": []
          },
          "execution_count": 52
        }
      ]
    },
    {
      "cell_type": "code",
      "metadata": {
        "colab": {
          "base_uri": "https://localhost:8080/",
          "height": 86
        },
        "id": "YUUz3qK1AX3h",
        "outputId": "d2d7bbb9-08c4-4169-e862-54fe3bceea72"
      },
      "source": [
        "text"
      ],
      "execution_count": 53,
      "outputs": [
        {
          "output_type": "execute_result",
          "data": {
            "application/vnd.google.colaboratory.intrinsic+json": {
              "type": "string"
            },
            "text/plain": [
              "'passion is always a greater motivating force than intelligence  an intelligent person will accomplish what he knows but an intelligent person will achive what he wants to  the english wikipedia is the english language edition of the free online encyclopedia wikipedia  founded on january   it is the first edition of wikipedia and  as of april   has the most articles of any edition  as of october     of articles in all wikipedias belong to the english language edition  this share has gradually declined from more than percent in   due to the growth of wikipedias in other languages  as of october '"
            ]
          },
          "metadata": {
            "tags": []
          },
          "execution_count": 53
        }
      ]
    },
    {
      "cell_type": "code",
      "metadata": {
        "id": "sUZTm8MGAgaH"
      },
      "source": [
        ""
      ],
      "execution_count": null,
      "outputs": []
    }
  ]
}