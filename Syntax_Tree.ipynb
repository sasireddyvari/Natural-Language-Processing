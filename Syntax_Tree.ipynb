{
  "nbformat": 4,
  "nbformat_minor": 0,
  "metadata": {
    "colab": {
      "name": "Syntax Tree.ipynb",
      "provenance": [],
      "collapsed_sections": [],
      "authorship_tag": "ABX9TyMPx/vLuAGYrhyKF+P3vktO",
      "include_colab_link": true
    },
    "kernelspec": {
      "name": "python3",
      "display_name": "Python 3"
    }
  },
  "cells": [
    {
      "cell_type": "markdown",
      "metadata": {
        "id": "view-in-github",
        "colab_type": "text"
      },
      "source": [
        "<a href=\"https://colab.research.google.com/github/sasireddyvari/Natural-Language-Processing/blob/master/Syntax_Tree.ipynb\" target=\"_parent\"><img src=\"https://colab.research.google.com/assets/colab-badge.svg\" alt=\"Open In Colab\"/></a>"
      ]
    },
    {
      "cell_type": "code",
      "metadata": {
        "id": "A9gVgY2OvtCH"
      },
      "source": [
        "import os\r\n",
        "import nltk\r\n",
        "import nltk.corpus\r\n",
        "from nltk.tokenize import word_tokenize\r\n",
        "from nltk import ne_chunk\r\n",
        "from nltk.probability import FreqDist\r\n",
        "from nltk import blankline_tokenize\r\n",
        "from nltk.util import bigrams, trigrams, ngrams\r\n",
        "from nltk.stem import PorterStemmer,LancasterStemmer # Normalize the words into base or root form. Not always the root form . Works based on cutting the edge or at the begining \r\n",
        "from nltk.stem import wordnet,WordNetLemmatizer\r\n",
        "from nltk.corpus import stopwords\r\n",
        "from nltk import ne_chunk"
      ],
      "execution_count": 1,
      "outputs": []
    },
    {
      "cell_type": "code",
      "metadata": {
        "id": "XZsOKU_9wylk"
      },
      "source": [
        "string='John went for a walk to the park with a golden statue.'"
      ],
      "execution_count": 2,
      "outputs": []
    },
    {
      "cell_type": "code",
      "metadata": {
        "id": "DID2IWD5w6K5"
      },
      "source": [
        "tokens=word_tokenize(string)\r\n",
        "ne_tags=nltk.pos_tag(tokens)"
      ],
      "execution_count": 11,
      "outputs": []
    },
    {
      "cell_type": "code",
      "metadata": {
        "colab": {
          "base_uri": "https://localhost:8080/"
        },
        "id": "CXWOt5pQxC6C",
        "outputId": "30020b2a-2bc0-4790-bffa-b26a40843f91"
      },
      "source": [
        "import nltk\r\n",
        "nltk.download('averaged_perceptron_tagger')"
      ],
      "execution_count": 10,
      "outputs": [
        {
          "output_type": "stream",
          "text": [
            "[nltk_data] Downloading package averaged_perceptron_tagger to\n",
            "[nltk_data]     /root/nltk_data...\n",
            "[nltk_data]   Unzipping taggers/averaged_perceptron_tagger.zip.\n"
          ],
          "name": "stdout"
        },
        {
          "output_type": "execute_result",
          "data": {
            "text/plain": [
              "True"
            ]
          },
          "metadata": {
            "tags": []
          },
          "execution_count": 10
        }
      ]
    },
    {
      "cell_type": "code",
      "metadata": {
        "colab": {
          "base_uri": "https://localhost:8080/"
        },
        "id": "vNgRogv-xJlW",
        "outputId": "bb1feb70-af1a-43d7-aa13-17d041b85543"
      },
      "source": [
        "ne_n=ne_chunk(ne_tags)\r\n",
        "print(ne_n)"
      ],
      "execution_count": 16,
      "outputs": [
        {
          "output_type": "stream",
          "text": [
            "(S\n",
            "  (PERSON John/NNP)\n",
            "  went/VBD\n",
            "  for/IN\n",
            "  a/DT\n",
            "  walk/NN\n",
            "  to/TO\n",
            "  the/DT\n",
            "  park/NN\n",
            "  with/IN\n",
            "  a/DT\n",
            "  golden/JJ\n",
            "  statue/NN\n",
            "  ./.)\n"
          ],
          "name": "stdout"
        }
      ]
    },
    {
      "cell_type": "code",
      "metadata": {
        "id": "vYIaQYC3xQef"
      },
      "source": [
        ""
      ],
      "execution_count": null,
      "outputs": []
    }
  ]
}