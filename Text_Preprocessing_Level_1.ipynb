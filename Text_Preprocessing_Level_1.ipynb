{
  "nbformat": 4,
  "nbformat_minor": 0,
  "metadata": {
    "colab": {
      "name": "Text Preprocessing Level 1.ipynb",
      "provenance": [],
      "collapsed_sections": [],
      "authorship_tag": "ABX9TyOrXwtKT+sIYJcCIs0w8DsB",
      "include_colab_link": true
    },
    "kernelspec": {
      "name": "python3",
      "display_name": "Python 3"
    }
  },
  "cells": [
    {
      "cell_type": "markdown",
      "metadata": {
        "id": "view-in-github",
        "colab_type": "text"
      },
      "source": [
        "<a href=\"https://colab.research.google.com/github/sasireddyvari/Natural-Language-Processing/blob/master/Text_Preprocessing_Level_1.ipynb\" target=\"_parent\"><img src=\"https://colab.research.google.com/assets/colab-badge.svg\" alt=\"Open In Colab\"/></a>"
      ]
    },
    {
      "cell_type": "markdown",
      "metadata": {
        "id": "dHCk3tFQ-A0y"
      },
      "source": [
        "Applications:\r\n",
        "\r\n",
        "- Sentiment Analysis\r\n",
        "- Chatbot\r\n",
        "- Recommendation\r\n",
        "- spam ham\r\n",
        "- speech recognition"
      ]
    },
    {
      "cell_type": "markdown",
      "metadata": {
        "id": "V2Df8gfb_kzY"
      },
      "source": [
        "# **Text Preprocessing Level 1**"
      ]
    },
    {
      "cell_type": "code",
      "metadata": {
        "id": "LqK-XTqe94TW"
      },
      "source": [
        "import os\r\n",
        "import nltk\r\n",
        "import nltk.corpus\r\n",
        "from nltk.tokenize import sent_tokenize,word_tokenize # Tokenization\r\n",
        "from nltk.stem import PorterStemmer,LancasterStemmer # Stemming : Normalize the words into base or root form. Not always the root form . Works based on cutting the edge or at the begining \r\n",
        "from nltk.probability import FreqDist # Frequency of words\r\n",
        "from nltk.corpus import stopwords # remove stopwords\r\n",
        "from nltk import blankline_tokenize # To find how many paras based on blank line\r\n",
        "from nltk.util import bigrams, trigrams, ngrams # 2 words, 3 words, n words\r\n",
        "from nltk import ne_chunk\r\n",
        "from nltk.stem import wordnet,WordNetLemmatizer # dictionary and Lemmatizer\r\n",
        "from nltk import ne_chunk"
      ],
      "execution_count": 54,
      "outputs": []
    },
    {
      "cell_type": "code",
      "metadata": {
        "colab": {
          "base_uri": "https://localhost:8080/"
        },
        "id": "_QDQeE1vA89C",
        "outputId": "dd46e736-a756-4f9f-dddf-e6908c7ccde2"
      },
      "source": [
        "nltk.download('punkt')"
      ],
      "execution_count": 16,
      "outputs": [
        {
          "output_type": "stream",
          "text": [
            "[nltk_data] Downloading package punkt to /root/nltk_data...\n",
            "[nltk_data]   Package punkt is already up-to-date!\n"
          ],
          "name": "stdout"
        },
        {
          "output_type": "execute_result",
          "data": {
            "text/plain": [
              "True"
            ]
          },
          "metadata": {
            "tags": []
          },
          "execution_count": 16
        }
      ]
    },
    {
      "cell_type": "code",
      "metadata": {
        "id": "_VAiHvJG-V7q"
      },
      "source": [
        "text='''Passion is always a greater motivating force than Intelligence.\r\n",
        "An intelligent person will accomplish what he knows but an intelligent person will achive what he wants to.\r\n",
        "The English Wikipedia is the English-language edition of the free online encyclopedia Wikipedia. Founded on 15 January 2001, it is the first edition of Wikipedia and, as of April 2019, has the most articles of any edition.[2] As of October 2020, 11% of articles in all Wikipedias belong to the English-language edition. This share has gradually declined from more than 50 percent in 2003, due to the growth of Wikipedias in other languages.[3] As of 29 October 2020'''"
      ],
      "execution_count": 38,
      "outputs": []
    },
    {
      "cell_type": "markdown",
      "metadata": {
        "id": "FpzQ285MQA0B"
      },
      "source": [
        "**Tokenization**"
      ]
    },
    {
      "cell_type": "code",
      "metadata": {
        "colab": {
          "base_uri": "https://localhost:8080/"
        },
        "id": "X4hBFWxr-1dc",
        "outputId": "976fbf9d-9060-4630-cd49-fa6259d9ced3"
      },
      "source": [
        "sentences= sent_tokenize(text)\r\n",
        "sentences"
      ],
      "execution_count": 39,
      "outputs": [
        {
          "output_type": "execute_result",
          "data": {
            "text/plain": [
              "['Passion is always a greater motivating force than Intelligence.',\n",
              " 'An intelligent perosn will accomplish what he know but an intelligent person will achive what he wants to.',\n",
              " 'The English Wikipedia is the English-language edition of the free online encyclopedia Wikipedia.',\n",
              " 'Founded on 15 January 2001, it is the first edition of Wikipedia and, as of April 2019, has the most articles of any edition.',\n",
              " '[2] As of October 2020, 11% of articles in all Wikipedias belong to the English-language edition.',\n",
              " 'This share has gradually declined from more than 50 percent in 2003, due to the growth of Wikipedias in other languages.',\n",
              " '[3] As of 29 October 2020']"
            ]
          },
          "metadata": {
            "tags": []
          },
          "execution_count": 39
        }
      ]
    },
    {
      "cell_type": "code",
      "metadata": {
        "colab": {
          "base_uri": "https://localhost:8080/"
        },
        "id": "7DqaYUdc-6B3",
        "outputId": "46bb2dc5-e2f3-4357-e151-33d8ba469da8"
      },
      "source": [
        "words=word_tokenize(text)\r\n",
        "words"
      ],
      "execution_count": 40,
      "outputs": [
        {
          "output_type": "execute_result",
          "data": {
            "text/plain": [
              "['Passion',\n",
              " 'is',\n",
              " 'always',\n",
              " 'a',\n",
              " 'greater',\n",
              " 'motivating',\n",
              " 'force',\n",
              " 'than',\n",
              " 'Intelligence',\n",
              " '.',\n",
              " 'An',\n",
              " 'intelligent',\n",
              " 'perosn',\n",
              " 'will',\n",
              " 'accomplish',\n",
              " 'what',\n",
              " 'he',\n",
              " 'know',\n",
              " 'but',\n",
              " 'an',\n",
              " 'intelligent',\n",
              " 'person',\n",
              " 'will',\n",
              " 'achive',\n",
              " 'what',\n",
              " 'he',\n",
              " 'wants',\n",
              " 'to',\n",
              " '.',\n",
              " 'The',\n",
              " 'English',\n",
              " 'Wikipedia',\n",
              " 'is',\n",
              " 'the',\n",
              " 'English-language',\n",
              " 'edition',\n",
              " 'of',\n",
              " 'the',\n",
              " 'free',\n",
              " 'online',\n",
              " 'encyclopedia',\n",
              " 'Wikipedia',\n",
              " '.',\n",
              " 'Founded',\n",
              " 'on',\n",
              " '15',\n",
              " 'January',\n",
              " '2001',\n",
              " ',',\n",
              " 'it',\n",
              " 'is',\n",
              " 'the',\n",
              " 'first',\n",
              " 'edition',\n",
              " 'of',\n",
              " 'Wikipedia',\n",
              " 'and',\n",
              " ',',\n",
              " 'as',\n",
              " 'of',\n",
              " 'April',\n",
              " '2019',\n",
              " ',',\n",
              " 'has',\n",
              " 'the',\n",
              " 'most',\n",
              " 'articles',\n",
              " 'of',\n",
              " 'any',\n",
              " 'edition',\n",
              " '.',\n",
              " '[',\n",
              " '2',\n",
              " ']',\n",
              " 'As',\n",
              " 'of',\n",
              " 'October',\n",
              " '2020',\n",
              " ',',\n",
              " '11',\n",
              " '%',\n",
              " 'of',\n",
              " 'articles',\n",
              " 'in',\n",
              " 'all',\n",
              " 'Wikipedias',\n",
              " 'belong',\n",
              " 'to',\n",
              " 'the',\n",
              " 'English-language',\n",
              " 'edition',\n",
              " '.',\n",
              " 'This',\n",
              " 'share',\n",
              " 'has',\n",
              " 'gradually',\n",
              " 'declined',\n",
              " 'from',\n",
              " 'more',\n",
              " 'than',\n",
              " '50',\n",
              " 'percent',\n",
              " 'in',\n",
              " '2003',\n",
              " ',',\n",
              " 'due',\n",
              " 'to',\n",
              " 'the',\n",
              " 'growth',\n",
              " 'of',\n",
              " 'Wikipedias',\n",
              " 'in',\n",
              " 'other',\n",
              " 'languages',\n",
              " '.',\n",
              " '[',\n",
              " '3',\n",
              " ']',\n",
              " 'As',\n",
              " 'of',\n",
              " '29',\n",
              " 'October',\n",
              " '2020']"
            ]
          },
          "metadata": {
            "tags": []
          },
          "execution_count": 40
        }
      ]
    },
    {
      "cell_type": "code",
      "metadata": {
        "colab": {
          "base_uri": "https://localhost:8080/"
        },
        "id": "8Dhm3dQwQ2iU",
        "outputId": "04680882-8778-4fc4-fe31-7b0973501d79"
      },
      "source": [
        "words_frequency=FreqDist()\r\n",
        "for word in words:\r\n",
        "  words_frequency[word.lower()]+=1 # to consider probability not to differentiate lower and uppper case\r\n",
        "\r\n",
        "words_frequency"
      ],
      "execution_count": 112,
      "outputs": [
        {
          "output_type": "execute_result",
          "data": {
            "text/plain": [
              "FreqDist({'%': 1,\n",
              "          ',': 5,\n",
              "          '.': 6,\n",
              "          '11': 1,\n",
              "          '15': 1,\n",
              "          '2': 1,\n",
              "          '2001': 1,\n",
              "          '2003': 1,\n",
              "          '2019': 1,\n",
              "          '2020': 2,\n",
              "          '29': 1,\n",
              "          '3': 1,\n",
              "          '50': 1,\n",
              "          '[': 2,\n",
              "          ']': 2,\n",
              "          'a': 1,\n",
              "          'accomplish': 1,\n",
              "          'achive': 1,\n",
              "          'all': 1,\n",
              "          'always': 1,\n",
              "          'an': 2,\n",
              "          'and': 1,\n",
              "          'any': 1,\n",
              "          'april': 1,\n",
              "          'articles': 2,\n",
              "          'as': 3,\n",
              "          'belong': 1,\n",
              "          'but': 1,\n",
              "          'declined': 1,\n",
              "          'due': 1,\n",
              "          'edition': 4,\n",
              "          'encyclopedia': 1,\n",
              "          'english': 1,\n",
              "          'english-language': 2,\n",
              "          'first': 1,\n",
              "          'force': 1,\n",
              "          'founded': 1,\n",
              "          'free': 1,\n",
              "          'from': 1,\n",
              "          'gradually': 1,\n",
              "          'greater': 1,\n",
              "          'growth': 1,\n",
              "          'has': 2,\n",
              "          'he': 2,\n",
              "          'in': 3,\n",
              "          'intelligence': 1,\n",
              "          'intelligent': 2,\n",
              "          'is': 3,\n",
              "          'it': 1,\n",
              "          'january': 1,\n",
              "          'know': 1,\n",
              "          'languages': 1,\n",
              "          'more': 1,\n",
              "          'most': 1,\n",
              "          'motivating': 1,\n",
              "          'october': 2,\n",
              "          'of': 8,\n",
              "          'on': 1,\n",
              "          'online': 1,\n",
              "          'other': 1,\n",
              "          'passion': 1,\n",
              "          'percent': 1,\n",
              "          'perosn': 1,\n",
              "          'person': 1,\n",
              "          'share': 1,\n",
              "          'than': 2,\n",
              "          'the': 7,\n",
              "          'this': 1,\n",
              "          'to': 3,\n",
              "          'wants': 1,\n",
              "          'what': 2,\n",
              "          'wikipedia': 3,\n",
              "          'wikipedias': 2,\n",
              "          'will': 2})"
            ]
          },
          "metadata": {
            "tags": []
          },
          "execution_count": 112
        }
      ]
    },
    {
      "cell_type": "markdown",
      "metadata": {
        "id": "6GxFq6nUQwMt"
      },
      "source": [
        "**Stemming & Lemmatization**"
      ]
    },
    {
      "cell_type": "code",
      "metadata": {
        "id": "FRyoVXcP_XDJ"
      },
      "source": [
        "# Stemming may or may not give meaningful word but Lemmatization will give meaningful word"
      ],
      "execution_count": 12,
      "outputs": []
    },
    {
      "cell_type": "code",
      "metadata": {
        "colab": {
          "base_uri": "https://localhost:8080/"
        },
        "id": "5Rg58kOkBx8P",
        "outputId": "3cefe887-5792-485f-c399-fda4bd8d78e0"
      },
      "source": [
        "nltk.download('stopwords')"
      ],
      "execution_count": 27,
      "outputs": [
        {
          "output_type": "stream",
          "text": [
            "[nltk_data] Downloading package stopwords to /root/nltk_data...\n",
            "[nltk_data]   Package stopwords is already up-to-date!\n"
          ],
          "name": "stdout"
        },
        {
          "output_type": "execute_result",
          "data": {
            "text/plain": [
              "True"
            ]
          },
          "metadata": {
            "tags": []
          },
          "execution_count": 27
        }
      ]
    },
    {
      "cell_type": "code",
      "metadata": {
        "colab": {
          "base_uri": "https://localhost:8080/"
        },
        "id": "e8Hujq0ZATVV",
        "outputId": "dd05c3ca-371b-42b6-fcca-41715eb48989"
      },
      "source": [
        "stopwords.words('english')"
      ],
      "execution_count": 55,
      "outputs": [
        {
          "output_type": "execute_result",
          "data": {
            "text/plain": [
              "['i',\n",
              " 'me',\n",
              " 'my',\n",
              " 'myself',\n",
              " 'we',\n",
              " 'our',\n",
              " 'ours',\n",
              " 'ourselves',\n",
              " 'you',\n",
              " \"you're\",\n",
              " \"you've\",\n",
              " \"you'll\",\n",
              " \"you'd\",\n",
              " 'your',\n",
              " 'yours',\n",
              " 'yourself',\n",
              " 'yourselves',\n",
              " 'he',\n",
              " 'him',\n",
              " 'his',\n",
              " 'himself',\n",
              " 'she',\n",
              " \"she's\",\n",
              " 'her',\n",
              " 'hers',\n",
              " 'herself',\n",
              " 'it',\n",
              " \"it's\",\n",
              " 'its',\n",
              " 'itself',\n",
              " 'they',\n",
              " 'them',\n",
              " 'their',\n",
              " 'theirs',\n",
              " 'themselves',\n",
              " 'what',\n",
              " 'which',\n",
              " 'who',\n",
              " 'whom',\n",
              " 'this',\n",
              " 'that',\n",
              " \"that'll\",\n",
              " 'these',\n",
              " 'those',\n",
              " 'am',\n",
              " 'is',\n",
              " 'are',\n",
              " 'was',\n",
              " 'were',\n",
              " 'be',\n",
              " 'been',\n",
              " 'being',\n",
              " 'have',\n",
              " 'has',\n",
              " 'had',\n",
              " 'having',\n",
              " 'do',\n",
              " 'does',\n",
              " 'did',\n",
              " 'doing',\n",
              " 'a',\n",
              " 'an',\n",
              " 'the',\n",
              " 'and',\n",
              " 'but',\n",
              " 'if',\n",
              " 'or',\n",
              " 'because',\n",
              " 'as',\n",
              " 'until',\n",
              " 'while',\n",
              " 'of',\n",
              " 'at',\n",
              " 'by',\n",
              " 'for',\n",
              " 'with',\n",
              " 'about',\n",
              " 'against',\n",
              " 'between',\n",
              " 'into',\n",
              " 'through',\n",
              " 'during',\n",
              " 'before',\n",
              " 'after',\n",
              " 'above',\n",
              " 'below',\n",
              " 'to',\n",
              " 'from',\n",
              " 'up',\n",
              " 'down',\n",
              " 'in',\n",
              " 'out',\n",
              " 'on',\n",
              " 'off',\n",
              " 'over',\n",
              " 'under',\n",
              " 'again',\n",
              " 'further',\n",
              " 'then',\n",
              " 'once',\n",
              " 'here',\n",
              " 'there',\n",
              " 'when',\n",
              " 'where',\n",
              " 'why',\n",
              " 'how',\n",
              " 'all',\n",
              " 'any',\n",
              " 'both',\n",
              " 'each',\n",
              " 'few',\n",
              " 'more',\n",
              " 'most',\n",
              " 'other',\n",
              " 'some',\n",
              " 'such',\n",
              " 'no',\n",
              " 'nor',\n",
              " 'not',\n",
              " 'only',\n",
              " 'own',\n",
              " 'same',\n",
              " 'so',\n",
              " 'than',\n",
              " 'too',\n",
              " 'very',\n",
              " 's',\n",
              " 't',\n",
              " 'can',\n",
              " 'will',\n",
              " 'just',\n",
              " 'don',\n",
              " \"don't\",\n",
              " 'should',\n",
              " \"should've\",\n",
              " 'now',\n",
              " 'd',\n",
              " 'll',\n",
              " 'm',\n",
              " 'o',\n",
              " 're',\n",
              " 've',\n",
              " 'y',\n",
              " 'ain',\n",
              " 'aren',\n",
              " \"aren't\",\n",
              " 'couldn',\n",
              " \"couldn't\",\n",
              " 'didn',\n",
              " \"didn't\",\n",
              " 'doesn',\n",
              " \"doesn't\",\n",
              " 'hadn',\n",
              " \"hadn't\",\n",
              " 'hasn',\n",
              " \"hasn't\",\n",
              " 'haven',\n",
              " \"haven't\",\n",
              " 'isn',\n",
              " \"isn't\",\n",
              " 'ma',\n",
              " 'mightn',\n",
              " \"mightn't\",\n",
              " 'mustn',\n",
              " \"mustn't\",\n",
              " 'needn',\n",
              " \"needn't\",\n",
              " 'shan',\n",
              " \"shan't\",\n",
              " 'shouldn',\n",
              " \"shouldn't\",\n",
              " 'wasn',\n",
              " \"wasn't\",\n",
              " 'weren',\n",
              " \"weren't\",\n",
              " 'won',\n",
              " \"won't\",\n",
              " 'wouldn',\n",
              " \"wouldn't\"]"
            ]
          },
          "metadata": {
            "tags": []
          },
          "execution_count": 55
        }
      ]
    },
    {
      "cell_type": "code",
      "metadata": {
        "id": "wUxCpMjBBvBv"
      },
      "source": [
        "stemmer=PorterStemmer()"
      ],
      "execution_count": 29,
      "outputs": []
    },
    {
      "cell_type": "code",
      "metadata": {
        "colab": {
          "base_uri": "https://localhost:8080/"
        },
        "id": "iVyDStBwCSbx",
        "outputId": "7b717c88-c3bd-4017-9092-3f938303bdb4"
      },
      "source": [
        "l=[]\r\n",
        "for i in words:\r\n",
        "  l.append(stemmer.stem(i))\r\n",
        "\r\n",
        "l"
      ],
      "execution_count": 34,
      "outputs": [
        {
          "output_type": "execute_result",
          "data": {
            "text/plain": [
              "['passion',\n",
              " 'is',\n",
              " 'alway',\n",
              " 'a',\n",
              " 'greater',\n",
              " 'motiv',\n",
              " 'forc',\n",
              " 'than',\n",
              " 'intellig',\n",
              " '.',\n",
              " 'An',\n",
              " 'intellig',\n",
              " 'perosn',\n",
              " 'will',\n",
              " 'accomplish',\n",
              " 'what',\n",
              " 'he',\n",
              " 'know',\n",
              " 'but',\n",
              " 'an',\n",
              " 'intellig',\n",
              " 'person',\n",
              " 'will',\n",
              " 'achiv',\n",
              " 'what',\n",
              " 'he',\n",
              " 'want',\n",
              " 'to',\n",
              " '.',\n",
              " 'the',\n",
              " 'english',\n",
              " 'wikipedia',\n",
              " 'is',\n",
              " 'the',\n",
              " 'english-languag',\n",
              " 'edit',\n",
              " 'of',\n",
              " 'the',\n",
              " 'free',\n",
              " 'onlin',\n",
              " 'encyclopedia',\n",
              " 'wikipedia',\n",
              " '.',\n",
              " 'found',\n",
              " 'on',\n",
              " '15',\n",
              " 'januari',\n",
              " '2001',\n",
              " ',',\n",
              " 'it',\n",
              " 'is',\n",
              " 'the',\n",
              " 'first',\n",
              " 'edit',\n",
              " 'of',\n",
              " 'wikipedia',\n",
              " 'and',\n",
              " ',',\n",
              " 'as',\n",
              " 'of',\n",
              " 'april',\n",
              " '2019',\n",
              " ',',\n",
              " 'ha',\n",
              " 'the',\n",
              " 'most',\n",
              " 'articl',\n",
              " 'of',\n",
              " 'ani',\n",
              " 'edit',\n",
              " '.',\n",
              " '[',\n",
              " '2',\n",
              " ']',\n",
              " 'As',\n",
              " 'of',\n",
              " 'octob',\n",
              " '2020',\n",
              " ',',\n",
              " '11',\n",
              " '%',\n",
              " 'of',\n",
              " 'articl',\n",
              " 'in',\n",
              " 'all',\n",
              " 'wikipedia',\n",
              " 'belong',\n",
              " 'to',\n",
              " 'the',\n",
              " 'english-languag',\n",
              " 'edit',\n",
              " '.',\n",
              " 'thi',\n",
              " 'share',\n",
              " 'ha',\n",
              " 'gradual',\n",
              " 'declin',\n",
              " 'from',\n",
              " 'more',\n",
              " 'than',\n",
              " '50',\n",
              " 'percent',\n",
              " 'in',\n",
              " '2003',\n",
              " ',',\n",
              " 'due',\n",
              " 'to',\n",
              " 'the',\n",
              " 'growth',\n",
              " 'of',\n",
              " 'wikipedia',\n",
              " 'in',\n",
              " 'other',\n",
              " 'languag',\n",
              " '.',\n",
              " '[',\n",
              " '3',\n",
              " ']',\n",
              " 'As',\n",
              " 'of',\n",
              " '29',\n",
              " 'octob',\n",
              " '2020']"
            ]
          },
          "metadata": {
            "tags": []
          },
          "execution_count": 34
        }
      ]
    },
    {
      "cell_type": "code",
      "metadata": {
        "colab": {
          "base_uri": "https://localhost:8080/"
        },
        "id": "VGAznz8IFLwX",
        "outputId": "a248753f-3629-489e-db76-e5ece058d71e"
      },
      "source": [
        "words"
      ],
      "execution_count": 37,
      "outputs": [
        {
          "output_type": "execute_result",
          "data": {
            "text/plain": [
              "['[', '3', ']', 'As', '29', 'octob', '2020']"
            ]
          },
          "metadata": {
            "tags": []
          },
          "execution_count": 37
        }
      ]
    },
    {
      "cell_type": "code",
      "metadata": {
        "colab": {
          "base_uri": "https://localhost:8080/"
        },
        "id": "kWOSj0prCVR2",
        "outputId": "728af851-757a-44e2-c3ac-afede6acdeb9"
      },
      "source": [
        "for i in range(len(sentences)): # stemming for all words except stop words\r\n",
        "  words = nltk.word_tokenize(sentences[i])\r\n",
        "  words = [stemmer.stem(word) for word in words if word not in set(stopwords.words('english'))] # set removes duplicates\r\n",
        "  sentences[i] = ' '.join(words)\r\n",
        "\r\n",
        "sentences"
      ],
      "execution_count": 35,
      "outputs": [
        {
          "output_type": "execute_result",
          "data": {
            "text/plain": [
              "['passion alway greater motiv forc intellig .',\n",
              " 'An intellig perosn accomplish know intellig person achiv want .',\n",
              " 'the english wikipedia english-languag edit free onlin encyclopedia wikipedia .',\n",
              " 'found 15 januari 2001 , first edit wikipedia , april 2019 , articl edit .',\n",
              " '[ 2 ] As octob 2020 , 11 % articl wikipedia belong english-languag edit .',\n",
              " 'thi share gradual declin 50 percent 2003 , due growth wikipedia languag .',\n",
              " '[ 3 ] As 29 octob 2020']"
            ]
          },
          "metadata": {
            "tags": []
          },
          "execution_count": 35
        }
      ]
    },
    {
      "cell_type": "code",
      "metadata": {
        "colab": {
          "base_uri": "https://localhost:8080/"
        },
        "id": "GKpPo9_DFpB_",
        "outputId": "8276230b-50f7-489f-c014-58f73c00e59b"
      },
      "source": [
        "words=word_tokenize(text)\r\n",
        "words"
      ],
      "execution_count": 58,
      "outputs": [
        {
          "output_type": "execute_result",
          "data": {
            "text/plain": [
              "['Passion',\n",
              " 'is',\n",
              " 'always',\n",
              " 'a',\n",
              " 'greater',\n",
              " 'motivating',\n",
              " 'force',\n",
              " 'than',\n",
              " 'Intelligence',\n",
              " '.',\n",
              " 'An',\n",
              " 'intelligent',\n",
              " 'perosn',\n",
              " 'will',\n",
              " 'accomplish',\n",
              " 'what',\n",
              " 'he',\n",
              " 'know',\n",
              " 'but',\n",
              " 'an',\n",
              " 'intelligent',\n",
              " 'person',\n",
              " 'will',\n",
              " 'achive',\n",
              " 'what',\n",
              " 'he',\n",
              " 'wants',\n",
              " 'to',\n",
              " '.',\n",
              " 'The',\n",
              " 'English',\n",
              " 'Wikipedia',\n",
              " 'is',\n",
              " 'the',\n",
              " 'English-language',\n",
              " 'edition',\n",
              " 'of',\n",
              " 'the',\n",
              " 'free',\n",
              " 'online',\n",
              " 'encyclopedia',\n",
              " 'Wikipedia',\n",
              " '.',\n",
              " 'Founded',\n",
              " 'on',\n",
              " '15',\n",
              " 'January',\n",
              " '2001',\n",
              " ',',\n",
              " 'it',\n",
              " 'is',\n",
              " 'the',\n",
              " 'first',\n",
              " 'edition',\n",
              " 'of',\n",
              " 'Wikipedia',\n",
              " 'and',\n",
              " ',',\n",
              " 'as',\n",
              " 'of',\n",
              " 'April',\n",
              " '2019',\n",
              " ',',\n",
              " 'has',\n",
              " 'the',\n",
              " 'most',\n",
              " 'articles',\n",
              " 'of',\n",
              " 'any',\n",
              " 'edition',\n",
              " '.',\n",
              " '[',\n",
              " '2',\n",
              " ']',\n",
              " 'As',\n",
              " 'of',\n",
              " 'October',\n",
              " '2020',\n",
              " ',',\n",
              " '11',\n",
              " '%',\n",
              " 'of',\n",
              " 'articles',\n",
              " 'in',\n",
              " 'all',\n",
              " 'Wikipedias',\n",
              " 'belong',\n",
              " 'to',\n",
              " 'the',\n",
              " 'English-language',\n",
              " 'edition',\n",
              " '.',\n",
              " 'This',\n",
              " 'share',\n",
              " 'has',\n",
              " 'gradually',\n",
              " 'declined',\n",
              " 'from',\n",
              " 'more',\n",
              " 'than',\n",
              " '50',\n",
              " 'percent',\n",
              " 'in',\n",
              " '2003',\n",
              " ',',\n",
              " 'due',\n",
              " 'to',\n",
              " 'the',\n",
              " 'growth',\n",
              " 'of',\n",
              " 'Wikipedias',\n",
              " 'in',\n",
              " 'other',\n",
              " 'languages',\n",
              " '.',\n",
              " '[',\n",
              " '3',\n",
              " ']',\n",
              " 'As',\n",
              " 'of',\n",
              " '29',\n",
              " 'October',\n",
              " '2020']"
            ]
          },
          "metadata": {
            "tags": []
          },
          "execution_count": 58
        }
      ]
    },
    {
      "cell_type": "markdown",
      "metadata": {
        "id": "E3FvZ3YOJUje"
      },
      "source": [
        "**Remove Special Characters and anything not required**"
      ]
    },
    {
      "cell_type": "code",
      "metadata": {
        "colab": {
          "base_uri": "https://localhost:8080/"
        },
        "id": "R9Usd658JcS7",
        "outputId": "afb22c90-ea60-4cfa-ae0c-d4c9451d6012"
      },
      "source": [
        "','.isalnum()"
      ],
      "execution_count": 66,
      "outputs": [
        {
          "output_type": "execute_result",
          "data": {
            "text/plain": [
              "False"
            ]
          },
          "metadata": {
            "tags": []
          },
          "execution_count": 66
        }
      ]
    },
    {
      "cell_type": "code",
      "metadata": {
        "colab": {
          "base_uri": "https://localhost:8080/"
        },
        "id": "zlFmtEJFJs6V",
        "outputId": "19f61df5-4144-4b57-b2e9-861dc3e12ea0"
      },
      "source": [
        "'\\n'.isalnum()"
      ],
      "execution_count": 70,
      "outputs": [
        {
          "output_type": "execute_result",
          "data": {
            "text/plain": [
              "False"
            ]
          },
          "metadata": {
            "tags": []
          },
          "execution_count": 70
        }
      ]
    },
    {
      "cell_type": "code",
      "metadata": {
        "colab": {
          "base_uri": "https://localhost:8080/",
          "height": 86
        },
        "id": "ItnP2PqVJp6H",
        "outputId": "d4c3d2e3-0f87-4754-f730-b727601f8a7c"
      },
      "source": [
        "text"
      ],
      "execution_count": 73,
      "outputs": [
        {
          "output_type": "execute_result",
          "data": {
            "application/vnd.google.colaboratory.intrinsic+json": {
              "type": "string"
            },
            "text/plain": [
              "'Passion is always a greater motivating force than Intelligence.\\nAn intelligent perosn will accomplish what he know but an intelligent person will achive what he wants to.\\nThe English Wikipedia is the English-language edition of the free online encyclopedia Wikipedia. Founded on 15 January 2001, it is the first edition of Wikipedia and, as of April 2019, has the most articles of any edition.[2] As of October 2020, 11% of articles in all Wikipedias belong to the English-language edition. This share has gradually declined from more than 50 percent in 2003, due to the growth of Wikipedias in other languages.[3] As of 29 October 2020'"
            ]
          },
          "metadata": {
            "tags": []
          },
          "execution_count": 73
        }
      ]
    },
    {
      "cell_type": "code",
      "metadata": {
        "colab": {
          "base_uri": "https://localhost:8080/",
          "height": 86
        },
        "id": "Z5FdWvEBIhDE",
        "outputId": "10154b30-4642-4328-e558-3f469e4a403e"
      },
      "source": [
        "temp = text.split()\r\n",
        "' '.join(val for val in temp if val.isalnum()) # remove special characters"
      ],
      "execution_count": 64,
      "outputs": [
        {
          "output_type": "execute_result",
          "data": {
            "application/vnd.google.colaboratory.intrinsic+json": {
              "type": "string"
            },
            "text/plain": [
              "'Passion is always a greater motivating force than An intelligent perosn will accomplish what he know but an intelligent person will achive what he wants The English Wikipedia is the edition of the free online encyclopedia Founded on 15 January it is the first edition of Wikipedia as of April has the most articles of any As of October of articles in all Wikipedias belong to the This share has gradually declined from more than 50 percent in due to the growth of Wikipedias in other As of 29 October 2020'"
            ]
          },
          "metadata": {
            "tags": []
          },
          "execution_count": 64
        }
      ]
    },
    {
      "cell_type": "code",
      "metadata": {
        "colab": {
          "base_uri": "https://localhost:8080/",
          "height": 86
        },
        "id": "7T0InMu2J3vU",
        "outputId": "6408d491-40bd-4dc2-e9cb-aa4cf56d2df1"
      },
      "source": [
        "import re\r\n",
        "re.sub('\\.',' ',text) # similar to this can be done wit string"
      ],
      "execution_count": 75,
      "outputs": [
        {
          "output_type": "execute_result",
          "data": {
            "application/vnd.google.colaboratory.intrinsic+json": {
              "type": "string"
            },
            "text/plain": [
              "'Passion is always a greater motivating force than Intelligence \\nAn intelligent perosn will accomplish what he know but an intelligent person will achive what he wants to \\nThe English Wikipedia is the English-language edition of the free online encyclopedia Wikipedia  Founded on 15 January 2001, it is the first edition of Wikipedia and, as of April 2019, has the most articles of any edition [2] As of October 2020, 11% of articles in all Wikipedias belong to the English-language edition  This share has gradually declined from more than 50 percent in 2003, due to the growth of Wikipedias in other languages [3] As of 29 October 2020'"
            ]
          },
          "metadata": {
            "tags": []
          },
          "execution_count": 75
        }
      ]
    },
    {
      "cell_type": "code",
      "metadata": {
        "colab": {
          "base_uri": "https://localhost:8080/",
          "height": 86
        },
        "id": "h20zj8rbKSFB",
        "outputId": "d01003b0-4618-47cc-eb78-2de68bb63939"
      },
      "source": [
        "text.replace('.',' ')"
      ],
      "execution_count": 76,
      "outputs": [
        {
          "output_type": "execute_result",
          "data": {
            "application/vnd.google.colaboratory.intrinsic+json": {
              "type": "string"
            },
            "text/plain": [
              "'Passion is always a greater motivating force than Intelligence \\nAn intelligent perosn will accomplish what he know but an intelligent person will achive what he wants to \\nThe English Wikipedia is the English-language edition of the free online encyclopedia Wikipedia  Founded on 15 January 2001, it is the first edition of Wikipedia and, as of April 2019, has the most articles of any edition [2] As of October 2020, 11% of articles in all Wikipedias belong to the English-language edition  This share has gradually declined from more than 50 percent in 2003, due to the growth of Wikipedias in other languages [3] As of 29 October 2020'"
            ]
          },
          "metadata": {
            "tags": []
          },
          "execution_count": 76
        }
      ]
    },
    {
      "cell_type": "code",
      "metadata": {
        "colab": {
          "base_uri": "https://localhost:8080/",
          "height": 86
        },
        "id": "rGesp9EIKItN",
        "outputId": "f461786c-b4a9-4d83-f3f9-dbf458376206"
      },
      "source": [
        "re.sub('[@_!#$%^&*()<>?/\\|}{~:.,]',' ',text)"
      ],
      "execution_count": 85,
      "outputs": [
        {
          "output_type": "execute_result",
          "data": {
            "application/vnd.google.colaboratory.intrinsic+json": {
              "type": "string"
            },
            "text/plain": [
              "'Passion is always a greater motivating force than Intelligence \\nAn intelligent perosn will accomplish what he know but an intelligent person will achive what he wants to \\nThe English Wikipedia is the English-language edition of the free online encyclopedia Wikipedia  Founded on 15 January 2001  it is the first edition of Wikipedia and  as of April 2019  has the most articles of any edition [2] As of October 2020  11  of articles in all Wikipedias belong to the English-language edition  This share has gradually declined from more than 50 percent in 2003  due to the growth of Wikipedias in other languages [3] As of 29 October 2020'"
            ]
          },
          "metadata": {
            "tags": []
          },
          "execution_count": 85
        }
      ]
    },
    {
      "cell_type": "markdown",
      "metadata": {
        "id": "z8Dbk3AdLDM9"
      },
      "source": [
        "**stopwords removal**"
      ]
    },
    {
      "cell_type": "code",
      "metadata": {
        "colab": {
          "base_uri": "https://localhost:8080/"
        },
        "id": "XOExmS8cLRbU",
        "outputId": "eae98004-3b9d-458a-946a-51884c878686"
      },
      "source": [
        "words = word_tokenize(text)\r\n",
        "words"
      ],
      "execution_count": 87,
      "outputs": [
        {
          "output_type": "execute_result",
          "data": {
            "text/plain": [
              "['Passion',\n",
              " 'is',\n",
              " 'always',\n",
              " 'a',\n",
              " 'greater',\n",
              " 'motivating',\n",
              " 'force',\n",
              " 'than',\n",
              " 'Intelligence',\n",
              " '.',\n",
              " 'An',\n",
              " 'intelligent',\n",
              " 'perosn',\n",
              " 'will',\n",
              " 'accomplish',\n",
              " 'what',\n",
              " 'he',\n",
              " 'know',\n",
              " 'but',\n",
              " 'an',\n",
              " 'intelligent',\n",
              " 'person',\n",
              " 'will',\n",
              " 'achive',\n",
              " 'what',\n",
              " 'he',\n",
              " 'wants',\n",
              " 'to',\n",
              " '.',\n",
              " 'The',\n",
              " 'English',\n",
              " 'Wikipedia',\n",
              " 'is',\n",
              " 'the',\n",
              " 'English-language',\n",
              " 'edition',\n",
              " 'of',\n",
              " 'the',\n",
              " 'free',\n",
              " 'online',\n",
              " 'encyclopedia',\n",
              " 'Wikipedia',\n",
              " '.',\n",
              " 'Founded',\n",
              " 'on',\n",
              " '15',\n",
              " 'January',\n",
              " '2001',\n",
              " ',',\n",
              " 'it',\n",
              " 'is',\n",
              " 'the',\n",
              " 'first',\n",
              " 'edition',\n",
              " 'of',\n",
              " 'Wikipedia',\n",
              " 'and',\n",
              " ',',\n",
              " 'as',\n",
              " 'of',\n",
              " 'April',\n",
              " '2019',\n",
              " ',',\n",
              " 'has',\n",
              " 'the',\n",
              " 'most',\n",
              " 'articles',\n",
              " 'of',\n",
              " 'any',\n",
              " 'edition',\n",
              " '.',\n",
              " '[',\n",
              " '2',\n",
              " ']',\n",
              " 'As',\n",
              " 'of',\n",
              " 'October',\n",
              " '2020',\n",
              " ',',\n",
              " '11',\n",
              " '%',\n",
              " 'of',\n",
              " 'articles',\n",
              " 'in',\n",
              " 'all',\n",
              " 'Wikipedias',\n",
              " 'belong',\n",
              " 'to',\n",
              " 'the',\n",
              " 'English-language',\n",
              " 'edition',\n",
              " '.',\n",
              " 'This',\n",
              " 'share',\n",
              " 'has',\n",
              " 'gradually',\n",
              " 'declined',\n",
              " 'from',\n",
              " 'more',\n",
              " 'than',\n",
              " '50',\n",
              " 'percent',\n",
              " 'in',\n",
              " '2003',\n",
              " ',',\n",
              " 'due',\n",
              " 'to',\n",
              " 'the',\n",
              " 'growth',\n",
              " 'of',\n",
              " 'Wikipedias',\n",
              " 'in',\n",
              " 'other',\n",
              " 'languages',\n",
              " '.',\n",
              " '[',\n",
              " '3',\n",
              " ']',\n",
              " 'As',\n",
              " 'of',\n",
              " '29',\n",
              " 'October',\n",
              " '2020']"
            ]
          },
          "metadata": {
            "tags": []
          },
          "execution_count": 87
        }
      ]
    },
    {
      "cell_type": "code",
      "metadata": {
        "colab": {
          "base_uri": "https://localhost:8080/"
        },
        "id": "f0TnLlaeEvU3",
        "outputId": "fd45dc9f-0ce7-46ae-889f-adb6b31dafba"
      },
      "source": [
        "lst=[]\r\n",
        "for i in words:\r\n",
        "  if i in set(stopwords.words('english')):\r\n",
        "    lst.append(i)\r\n",
        "    #print(' '.join(word)\r\n",
        "\r\n",
        "lst"
      ],
      "execution_count": 98,
      "outputs": [
        {
          "output_type": "execute_result",
          "data": {
            "text/plain": [
              "['is',\n",
              " 'a',\n",
              " 'than',\n",
              " 'will',\n",
              " 'what',\n",
              " 'he',\n",
              " 'but',\n",
              " 'an',\n",
              " 'will',\n",
              " 'what',\n",
              " 'he',\n",
              " 'to',\n",
              " 'is',\n",
              " 'the',\n",
              " 'of',\n",
              " 'the',\n",
              " 'on',\n",
              " 'it',\n",
              " 'is',\n",
              " 'the',\n",
              " 'of',\n",
              " 'and',\n",
              " 'as',\n",
              " 'of',\n",
              " 'has',\n",
              " 'the',\n",
              " 'most',\n",
              " 'of',\n",
              " 'any',\n",
              " 'of',\n",
              " 'of',\n",
              " 'in',\n",
              " 'all',\n",
              " 'to',\n",
              " 'the',\n",
              " 'has',\n",
              " 'from',\n",
              " 'more',\n",
              " 'than',\n",
              " 'in',\n",
              " 'to',\n",
              " 'the',\n",
              " 'of',\n",
              " 'in',\n",
              " 'other',\n",
              " 'of']"
            ]
          },
          "metadata": {
            "tags": []
          },
          "execution_count": 98
        }
      ]
    },
    {
      "cell_type": "markdown",
      "metadata": {
        "id": "pIg2Z0veM1Xn"
      },
      "source": [
        "**Lemmatization**"
      ]
    },
    {
      "cell_type": "code",
      "metadata": {
        "colab": {
          "base_uri": "https://localhost:8080/"
        },
        "id": "X0RFuLQRMJP2",
        "outputId": "4490cf86-d45c-43f8-ef85-4e0d474e9a2a"
      },
      "source": [
        "lemma=WordNetLemmatizer()\r\n",
        "nltk.download('wordnet')"
      ],
      "execution_count": 103,
      "outputs": [
        {
          "output_type": "stream",
          "text": [
            "[nltk_data] Downloading package wordnet to /root/nltk_data...\n",
            "[nltk_data]   Package wordnet is already up-to-date!\n"
          ],
          "name": "stdout"
        },
        {
          "output_type": "execute_result",
          "data": {
            "text/plain": [
              "True"
            ]
          },
          "metadata": {
            "tags": []
          },
          "execution_count": 103
        }
      ]
    },
    {
      "cell_type": "code",
      "metadata": {
        "colab": {
          "base_uri": "https://localhost:8080/",
          "height": 35
        },
        "id": "27UaCjdMNjk-",
        "outputId": "2a47f697-b24d-4c89-aae1-278526677fe5"
      },
      "source": [
        "lemma.lemmatize('goings')"
      ],
      "execution_count": 111,
      "outputs": [
        {
          "output_type": "execute_result",
          "data": {
            "application/vnd.google.colaboratory.intrinsic+json": {
              "type": "string"
            },
            "text/plain": [
              "'going'"
            ]
          },
          "metadata": {
            "tags": []
          },
          "execution_count": 111
        }
      ]
    },
    {
      "cell_type": "code",
      "metadata": {
        "id": "n9AZFdTyN6Dj"
      },
      "source": [
        ""
      ],
      "execution_count": null,
      "outputs": []
    }
  ]
}