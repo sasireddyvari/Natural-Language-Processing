{
  "nbformat": 4,
  "nbformat_minor": 0,
  "metadata": {
    "colab": {
      "name": "Word2Vec_TextBlob_preprocessing_Level 3.ipynb",
      "provenance": [],
      "authorship_tag": "ABX9TyOyIhDX2cIxHNZJ9i7sjoQB",
      "include_colab_link": true
    },
    "kernelspec": {
      "name": "python3",
      "display_name": "Python 3"
    }
  },
  "cells": [
    {
      "cell_type": "markdown",
      "metadata": {
        "id": "view-in-github",
        "colab_type": "text"
      },
      "source": [
        "<a href=\"https://colab.research.google.com/github/sasireddyvari/Natural-Language-Processing/blob/master/Word2Vec_TextBlob_preprocessing_Level_3.ipynb\" target=\"_parent\"><img src=\"https://colab.research.google.com/assets/colab-badge.svg\" alt=\"Open In Colab\"/></a>"
      ]
    },
    {
      "cell_type": "markdown",
      "metadata": {
        "id": "zSWOnA6E4eai"
      },
      "source": [
        "BOW, TF- IDF has no semantic info and a chance of overfitting. Hence Word2Vec came into existence. It keeps each and every word is represented as 32 or more and keeps semantic info"
      ]
    },
    {
      "cell_type": "code",
      "metadata": {
        "id": "frfsBW083Nj6"
      },
      "source": [
        "import nltk\r\n",
        "from nltk.tokenize import sent_tokenize, word_tokenize\r\n",
        "from gensim.models import Word2Vec\r\n",
        "from nltk.corpus import stopwords\r\n",
        "import re"
      ],
      "execution_count": null,
      "outputs": []
    },
    {
      "cell_type": "code",
      "metadata": {
        "id": "5mMMovqt7K9R"
      },
      "source": [
        "text='''Passion is always a greater motivating force than Intelligence.\r\n",
        "An intelligent person will accomplish what he knows but an intelligent person will achive what he wants to.\r\n",
        "The English Wikipedia is the English-language edition of the free online encyclopedia Wikipedia. Founded on 15 January 2001, it is the first edition of Wikipedia and, as of April 2019, has the most articles of any edition.[2] As of October 2020, 11% of articles in all Wikipedias belong to the English-language edition. This share has gradually declined from more than 50 percent in 2003, due to the growth of Wikipedias in other languages.[3] As of 29 October 2020'''"
      ],
      "execution_count": null,
      "outputs": []
    },
    {
      "cell_type": "code",
      "metadata": {
        "id": "GTgMjV7o7dHo"
      },
      "source": [
        "text = re.sub(r'\\[[0-9]*\\]',' ',text) # containing [] values\r\n",
        "text = re.sub(r'\\s+',' ', text) # r indicates the pattern to be considered as a raw string\r\n",
        "text = text.lower()\r\n",
        "text = re.sub(r'\\d',' ',text)\r\n",
        "text = re.sub(r'\\s+',' ',text)\r\n",
        "text = re.sub('[^a-zA-Z]', ' ', text)"
      ],
      "execution_count": null,
      "outputs": []
    },
    {
      "cell_type": "code",
      "metadata": {
        "colab": {
          "base_uri": "https://localhost:8080/",
          "height": 86
        },
        "id": "nEYjeuuD9en9",
        "outputId": "332991f0-d724-4c21-bd89-81d6eb43ed34"
      },
      "source": [
        "text"
      ],
      "execution_count": null,
      "outputs": [
        {
          "output_type": "execute_result",
          "data": {
            "application/vnd.google.colaboratory.intrinsic+json": {
              "type": "string"
            },
            "text/plain": [
              "'passion is always a greater motivating force than intelligence  an intelligent person will accomplish what he knows but an intelligent person will achive what he wants to  the english wikipedia is the english language edition of the free online encyclopedia wikipedia  founded on january   it is the first edition of wikipedia and  as of april   has the most articles of any edition  as of october     of articles in all wikipedias belong to the english language edition  this share has gradually declined from more than percent in   due to the growth of wikipedias in other languages  as of october '"
            ]
          },
          "metadata": {
            "tags": []
          },
          "execution_count": 42
        }
      ]
    },
    {
      "cell_type": "code",
      "metadata": {
        "colab": {
          "base_uri": "https://localhost:8080/"
        },
        "id": "_KFkzfvb-zWy",
        "outputId": "faee536a-5ffa-42a0-a4b0-91fbd9025a0f"
      },
      "source": [
        "nltk.download('punkt')"
      ],
      "execution_count": null,
      "outputs": [
        {
          "output_type": "stream",
          "text": [
            "[nltk_data] Downloading package punkt to /root/nltk_data...\n",
            "[nltk_data]   Unzipping tokenizers/punkt.zip.\n"
          ],
          "name": "stdout"
        },
        {
          "output_type": "execute_result",
          "data": {
            "text/plain": [
              "True"
            ]
          },
          "metadata": {
            "tags": []
          },
          "execution_count": 32
        }
      ]
    },
    {
      "cell_type": "code",
      "metadata": {
        "colab": {
          "base_uri": "https://localhost:8080/"
        },
        "id": "ybBlxtM3-jYh",
        "outputId": "91f50ed5-ec6f-4b80-be20-2531c0a7fd86"
      },
      "source": [
        "sentences= sent_tokenize(text)\r\n",
        "sentences"
      ],
      "execution_count": null,
      "outputs": [
        {
          "output_type": "execute_result",
          "data": {
            "text/plain": [
              "['passion is always a greater motivating force than intelligence  an intelligent person will accomplish what he knows but an intelligent person will achive what he wants to  the english wikipedia is the english language edition of the free online encyclopedia wikipedia  founded on january   it is the first edition of wikipedia and  as of april   has the most articles of any edition  as of october     of articles in all wikipedias belong to the english language edition  this share has gradually declined from more than percent in   due to the growth of wikipedias in other languages  as of october']"
            ]
          },
          "metadata": {
            "tags": []
          },
          "execution_count": 43
        }
      ]
    },
    {
      "cell_type": "code",
      "metadata": {
        "id": "sKYFXtlR_rf9"
      },
      "source": [
        "sentences = [nltk.word_tokenize(sentence) for sentence in sentences]"
      ],
      "execution_count": null,
      "outputs": []
    },
    {
      "cell_type": "code",
      "metadata": {
        "colab": {
          "base_uri": "https://localhost:8080/"
        },
        "id": "_oTzGcHu_t7W",
        "outputId": "6bbaebd9-b8c3-420e-c084-3bce4738c1bd"
      },
      "source": [
        "sentences"
      ],
      "execution_count": null,
      "outputs": [
        {
          "output_type": "execute_result",
          "data": {
            "text/plain": [
              "[['passion',\n",
              "  'is',\n",
              "  'always',\n",
              "  'a',\n",
              "  'greater',\n",
              "  'motivating',\n",
              "  'force',\n",
              "  'than',\n",
              "  'intelligence',\n",
              "  'an',\n",
              "  'intelligent',\n",
              "  'person',\n",
              "  'will',\n",
              "  'accomplish',\n",
              "  'what',\n",
              "  'he',\n",
              "  'knows',\n",
              "  'but',\n",
              "  'an',\n",
              "  'intelligent',\n",
              "  'person',\n",
              "  'will',\n",
              "  'achive',\n",
              "  'what',\n",
              "  'he',\n",
              "  'wants',\n",
              "  'to',\n",
              "  'the',\n",
              "  'english',\n",
              "  'wikipedia',\n",
              "  'is',\n",
              "  'the',\n",
              "  'english',\n",
              "  'language',\n",
              "  'edition',\n",
              "  'of',\n",
              "  'the',\n",
              "  'free',\n",
              "  'online',\n",
              "  'encyclopedia',\n",
              "  'wikipedia',\n",
              "  'founded',\n",
              "  'on',\n",
              "  'january',\n",
              "  'it',\n",
              "  'is',\n",
              "  'the',\n",
              "  'first',\n",
              "  'edition',\n",
              "  'of',\n",
              "  'wikipedia',\n",
              "  'and',\n",
              "  'as',\n",
              "  'of',\n",
              "  'april',\n",
              "  'has',\n",
              "  'the',\n",
              "  'most',\n",
              "  'articles',\n",
              "  'of',\n",
              "  'any',\n",
              "  'edition',\n",
              "  'as',\n",
              "  'of',\n",
              "  'october',\n",
              "  'of',\n",
              "  'articles',\n",
              "  'in',\n",
              "  'all',\n",
              "  'wikipedias',\n",
              "  'belong',\n",
              "  'to',\n",
              "  'the',\n",
              "  'english',\n",
              "  'language',\n",
              "  'edition',\n",
              "  'this',\n",
              "  'share',\n",
              "  'has',\n",
              "  'gradually',\n",
              "  'declined',\n",
              "  'from',\n",
              "  'more',\n",
              "  'than',\n",
              "  'percent',\n",
              "  'in',\n",
              "  'due',\n",
              "  'to',\n",
              "  'the',\n",
              "  'growth',\n",
              "  'of',\n",
              "  'wikipedias',\n",
              "  'in',\n",
              "  'other',\n",
              "  'languages',\n",
              "  'as',\n",
              "  'of',\n",
              "  'october']]"
            ]
          },
          "metadata": {
            "tags": []
          },
          "execution_count": 45
        }
      ]
    },
    {
      "cell_type": "code",
      "metadata": {
        "colab": {
          "base_uri": "https://localhost:8080/"
        },
        "id": "cerWIFez_Kqe",
        "outputId": "b91d6a2f-eebd-49a8-b800-0e849328640c"
      },
      "source": [
        "nltk.download('stopwords')"
      ],
      "execution_count": null,
      "outputs": [
        {
          "output_type": "stream",
          "text": [
            "[nltk_data] Downloading package stopwords to /root/nltk_data...\n",
            "[nltk_data]   Unzipping corpora/stopwords.zip.\n"
          ],
          "name": "stdout"
        },
        {
          "output_type": "execute_result",
          "data": {
            "text/plain": [
              "True"
            ]
          },
          "metadata": {
            "tags": []
          },
          "execution_count": 36
        }
      ]
    },
    {
      "cell_type": "code",
      "metadata": {
        "id": "8qmnJMAN-xnX"
      },
      "source": [
        "for i in range(len(sentences)):\r\n",
        "    sentences[i] = [word for word in sentences[i] if word not in stopwords.words('english')]"
      ],
      "execution_count": null,
      "outputs": []
    },
    {
      "cell_type": "code",
      "metadata": {
        "id": "HXIkl331_IW_"
      },
      "source": [
        "model = Word2Vec(sentences, min_count=1)"
      ],
      "execution_count": null,
      "outputs": []
    },
    {
      "cell_type": "code",
      "metadata": {
        "colab": {
          "base_uri": "https://localhost:8080/"
        },
        "id": "Eqxe3w0C_2jV",
        "outputId": "d238b903-bada-4022-e998-6f766f8c852e"
      },
      "source": [
        "words = model.wv.vocab\r\n",
        "words # has vectors of dimension"
      ],
      "execution_count": null,
      "outputs": [
        {
          "output_type": "execute_result",
          "data": {
            "text/plain": [
              "{'accomplish': <gensim.models.keyedvectors.Vocab at 0x7f3661f9df98>,\n",
              " 'achive': <gensim.models.keyedvectors.Vocab at 0x7f3661f9de10>,\n",
              " 'always': <gensim.models.keyedvectors.Vocab at 0x7f3661f9d9b0>,\n",
              " 'april': <gensim.models.keyedvectors.Vocab at 0x7f3661f96da0>,\n",
              " 'articles': <gensim.models.keyedvectors.Vocab at 0x7f3661f96eb8>,\n",
              " 'belong': <gensim.models.keyedvectors.Vocab at 0x7f3661f96f98>,\n",
              " 'declined': <gensim.models.keyedvectors.Vocab at 0x7f3661f969b0>,\n",
              " 'due': <gensim.models.keyedvectors.Vocab at 0x7f3661f96278>,\n",
              " 'edition': <gensim.models.keyedvectors.Vocab at 0x7f3661f96c18>,\n",
              " 'encyclopedia': <gensim.models.keyedvectors.Vocab at 0x7f3661f96cf8>,\n",
              " 'english': <gensim.models.keyedvectors.Vocab at 0x7f3661f96668>,\n",
              " 'first': <gensim.models.keyedvectors.Vocab at 0x7f3661f96e10>,\n",
              " 'force': <gensim.models.keyedvectors.Vocab at 0x7f3661f9deb8>,\n",
              " 'founded': <gensim.models.keyedvectors.Vocab at 0x7f3661f96c50>,\n",
              " 'free': <gensim.models.keyedvectors.Vocab at 0x7f3661f96ba8>,\n",
              " 'gradually': <gensim.models.keyedvectors.Vocab at 0x7f3661f964a8>,\n",
              " 'greater': <gensim.models.keyedvectors.Vocab at 0x7f3661f9de80>,\n",
              " 'growth': <gensim.models.keyedvectors.Vocab at 0x7f3661f963c8>,\n",
              " 'intelligence': <gensim.models.keyedvectors.Vocab at 0x7f3661f9df60>,\n",
              " 'intelligent': <gensim.models.keyedvectors.Vocab at 0x7f3661f9da58>,\n",
              " 'january': <gensim.models.keyedvectors.Vocab at 0x7f3661f96cc0>,\n",
              " 'knows': <gensim.models.keyedvectors.Vocab at 0x7f3661f9dfd0>,\n",
              " 'language': <gensim.models.keyedvectors.Vocab at 0x7f3661f96b00>,\n",
              " 'languages': <gensim.models.keyedvectors.Vocab at 0x7f3661f966d8>,\n",
              " 'motivating': <gensim.models.keyedvectors.Vocab at 0x7f3661f9def0>,\n",
              " 'october': <gensim.models.keyedvectors.Vocab at 0x7f3661f96e48>,\n",
              " 'online': <gensim.models.keyedvectors.Vocab at 0x7f3661f96c88>,\n",
              " 'passion': <gensim.models.keyedvectors.Vocab at 0x7f3661f9d048>,\n",
              " 'percent': <gensim.models.keyedvectors.Vocab at 0x7f3661f967b8>,\n",
              " 'person': <gensim.models.keyedvectors.Vocab at 0x7f3661f9df28>,\n",
              " 'share': <gensim.models.keyedvectors.Vocab at 0x7f3661f96fd0>,\n",
              " 'wants': <gensim.models.keyedvectors.Vocab at 0x7f3661f9da90>,\n",
              " 'wikipedia': <gensim.models.keyedvectors.Vocab at 0x7f3661f96b70>,\n",
              " 'wikipedias': <gensim.models.keyedvectors.Vocab at 0x7f3661f96e80>}"
            ]
          },
          "metadata": {
            "tags": []
          },
          "execution_count": 48
        }
      ]
    },
    {
      "cell_type": "code",
      "metadata": {
        "id": "hoEyjZ_KAG2w"
      },
      "source": [
        "similar = model.wv.most_similar('passion')"
      ],
      "execution_count": null,
      "outputs": []
    },
    {
      "cell_type": "code",
      "metadata": {
        "colab": {
          "base_uri": "https://localhost:8080/"
        },
        "id": "l3r96vlxATOy",
        "outputId": "866d3efa-4c0d-45c7-f568-14fc50e5c213"
      },
      "source": [
        "similar"
      ],
      "execution_count": null,
      "outputs": [
        {
          "output_type": "execute_result",
          "data": {
            "text/plain": [
              "[('january', 0.2682828903198242),\n",
              " ('april', 0.23684900999069214),\n",
              " ('free', 0.2132294476032257),\n",
              " ('encyclopedia', 0.10025961697101593),\n",
              " ('october', 0.08696836233139038),\n",
              " ('language', 0.07694263756275177),\n",
              " ('english', 0.07410155981779099),\n",
              " ('intelligence', 0.06870000064373016),\n",
              " ('intelligent', 0.06739392876625061),\n",
              " ('founded', 0.06417077034711838)]"
            ]
          },
          "metadata": {
            "tags": []
          },
          "execution_count": 52
        }
      ]
    },
    {
      "cell_type": "code",
      "metadata": {
        "colab": {
          "base_uri": "https://localhost:8080/",
          "height": 86
        },
        "id": "YUUz3qK1AX3h",
        "outputId": "d2d7bbb9-08c4-4169-e862-54fe3bceea72"
      },
      "source": [
        "text"
      ],
      "execution_count": null,
      "outputs": [
        {
          "output_type": "execute_result",
          "data": {
            "application/vnd.google.colaboratory.intrinsic+json": {
              "type": "string"
            },
            "text/plain": [
              "'passion is always a greater motivating force than intelligence  an intelligent person will accomplish what he knows but an intelligent person will achive what he wants to  the english wikipedia is the english language edition of the free online encyclopedia wikipedia  founded on january   it is the first edition of wikipedia and  as of april   has the most articles of any edition  as of october     of articles in all wikipedias belong to the english language edition  this share has gradually declined from more than percent in   due to the growth of wikipedias in other languages  as of october '"
            ]
          },
          "metadata": {
            "tags": []
          },
          "execution_count": 53
        }
      ]
    },
    {
      "cell_type": "markdown",
      "metadata": {
        "id": "BM_dpyIIfUp6"
      },
      "source": [
        "**TextBlob**"
      ]
    },
    {
      "cell_type": "code",
      "metadata": {
        "id": "sUZTm8MGAgaH"
      },
      "source": [
        "from textblob import TextBlob"
      ],
      "execution_count": 1,
      "outputs": []
    },
    {
      "cell_type": "code",
      "metadata": {
        "id": "xPyz4YkIff2d"
      },
      "source": [
        "b= TextBlob('I havv good spelling!!!')"
      ],
      "execution_count": 3,
      "outputs": []
    },
    {
      "cell_type": "code",
      "metadata": {
        "colab": {
          "base_uri": "https://localhost:8080/"
        },
        "id": "SBGneNhbflsv",
        "outputId": "1c6d54fd-d7ef-4055-e3d2-724b50e895d8"
      },
      "source": [
        "b.correct()"
      ],
      "execution_count": 4,
      "outputs": [
        {
          "output_type": "execute_result",
          "data": {
            "text/plain": [
              "TextBlob(\"I have good spelling!!!\")"
            ]
          },
          "metadata": {
            "tags": []
          },
          "execution_count": 4
        }
      ]
    },
    {
      "cell_type": "code",
      "metadata": {
        "id": "bkf2ncBlforL"
      },
      "source": [
        "text = '''\r\n",
        "The titular threat of The Blob has always struck me as the ultimate movie\r\n",
        "monster: an insatiably hungry, amoeba-like mass able to penetrate\r\n",
        "virtually any safeguard, capable of--as a doomed doctor chillingly\r\n",
        "describes it--\"assimilating flesh on contact.\r\n",
        "Snide comparisons to gelatin be damned, it's a concept with the most\r\n",
        "devastating of potential consequences, not unlike the grey goo scenario\r\n",
        "proposed by technological theorists fearful of\r\n",
        "artificial intelligence run rampant.\r\n",
        "'''"
      ],
      "execution_count": 5,
      "outputs": []
    },
    {
      "cell_type": "code",
      "metadata": {
        "colab": {
          "base_uri": "https://localhost:8080/"
        },
        "id": "Vd_hbntTgVz6",
        "outputId": "39ce9708-277e-452c-e4db-f094e61c5e56"
      },
      "source": [
        "import nltk\r\n",
        "nltk.download('punkt')\r\n",
        "nltk.download('averaged_perceptron_tagger')"
      ],
      "execution_count": 11,
      "outputs": [
        {
          "output_type": "stream",
          "text": [
            "[nltk_data] Downloading package punkt to /root/nltk_data...\n",
            "[nltk_data]   Package punkt is already up-to-date!\n",
            "[nltk_data] Downloading package averaged_perceptron_tagger to\n",
            "[nltk_data]     /root/nltk_data...\n",
            "[nltk_data]   Unzipping taggers/averaged_perceptron_tagger.zip.\n"
          ],
          "name": "stdout"
        },
        {
          "output_type": "execute_result",
          "data": {
            "text/plain": [
              "True"
            ]
          },
          "metadata": {
            "tags": []
          },
          "execution_count": 11
        }
      ]
    },
    {
      "cell_type": "code",
      "metadata": {
        "colab": {
          "base_uri": "https://localhost:8080/"
        },
        "id": "S2b45dgLgQT1",
        "outputId": "2377fc3f-5266-4577-9d97-29c3c2af93c5"
      },
      "source": [
        "blob = TextBlob(text)\r\n",
        "blob.tags"
      ],
      "execution_count": 12,
      "outputs": [
        {
          "output_type": "execute_result",
          "data": {
            "text/plain": [
              "[('The', 'DT'),\n",
              " ('titular', 'JJ'),\n",
              " ('threat', 'NN'),\n",
              " ('of', 'IN'),\n",
              " ('The', 'DT'),\n",
              " ('Blob', 'NNP'),\n",
              " ('has', 'VBZ'),\n",
              " ('always', 'RB'),\n",
              " ('struck', 'VBN'),\n",
              " ('me', 'PRP'),\n",
              " ('as', 'IN'),\n",
              " ('the', 'DT'),\n",
              " ('ultimate', 'JJ'),\n",
              " ('movie', 'NN'),\n",
              " ('monster', 'NN'),\n",
              " ('an', 'DT'),\n",
              " ('insatiably', 'RB'),\n",
              " ('hungry', 'JJ'),\n",
              " ('amoeba-like', 'JJ'),\n",
              " ('mass', 'NN'),\n",
              " ('able', 'JJ'),\n",
              " ('to', 'TO'),\n",
              " ('penetrate', 'VB'),\n",
              " ('virtually', 'RB'),\n",
              " ('any', 'DT'),\n",
              " ('safeguard', 'NN'),\n",
              " ('capable', 'JJ'),\n",
              " ('of', 'IN'),\n",
              " ('as', 'IN'),\n",
              " ('a', 'DT'),\n",
              " ('doomed', 'JJ'),\n",
              " ('doctor', 'NN'),\n",
              " ('chillingly', 'RB'),\n",
              " ('describes', 'VBZ'),\n",
              " ('it', 'PRP'),\n",
              " ('assimilating', 'VBG'),\n",
              " ('flesh', 'NN'),\n",
              " ('on', 'IN'),\n",
              " ('contact', 'NN'),\n",
              " ('Snide', 'JJ'),\n",
              " ('comparisons', 'NNS'),\n",
              " ('to', 'TO'),\n",
              " ('gelatin', 'VB'),\n",
              " ('be', 'VB'),\n",
              " ('damned', 'VBN'),\n",
              " ('it', 'PRP'),\n",
              " (\"'s\", 'VBZ'),\n",
              " ('a', 'DT'),\n",
              " ('concept', 'NN'),\n",
              " ('with', 'IN'),\n",
              " ('the', 'DT'),\n",
              " ('most', 'RBS'),\n",
              " ('devastating', 'JJ'),\n",
              " ('of', 'IN'),\n",
              " ('potential', 'JJ'),\n",
              " ('consequences', 'NNS'),\n",
              " ('not', 'RB'),\n",
              " ('unlike', 'IN'),\n",
              " ('the', 'DT'),\n",
              " ('grey', 'NN'),\n",
              " ('goo', 'NN'),\n",
              " ('scenario', 'NN'),\n",
              " ('proposed', 'VBN'),\n",
              " ('by', 'IN'),\n",
              " ('technological', 'JJ'),\n",
              " ('theorists', 'NNS'),\n",
              " ('fearful', 'NN'),\n",
              " ('of', 'IN'),\n",
              " ('artificial', 'JJ'),\n",
              " ('intelligence', 'NN'),\n",
              " ('run', 'NN'),\n",
              " ('rampant', 'NN')]"
            ]
          },
          "metadata": {
            "tags": []
          },
          "execution_count": 12
        }
      ]
    },
    {
      "cell_type": "code",
      "metadata": {
        "colab": {
          "base_uri": "https://localhost:8080/"
        },
        "id": "Wyukre3MgTbh",
        "outputId": "0cfd3b1f-b7b6-4fd9-90f3-77a349ecf9cb"
      },
      "source": [
        "blob.noun_phrases"
      ],
      "execution_count": 15,
      "outputs": [
        {
          "output_type": "execute_result",
          "data": {
            "text/plain": [
              "WordList(['titular threat', 'blob', 'ultimate movie monster', 'amoeba-like mass', 'snide', 'potential consequences', 'grey goo scenario', 'technological theorists fearful', 'artificial intelligence run rampant'])"
            ]
          },
          "metadata": {
            "tags": []
          },
          "execution_count": 15
        }
      ]
    },
    {
      "cell_type": "code",
      "metadata": {
        "colab": {
          "base_uri": "https://localhost:8080/"
        },
        "id": "U1OHzNqYgmhE",
        "outputId": "00977f87-fa02-4af9-889c-afe0b308b71d"
      },
      "source": [
        "nltk.download('brown')"
      ],
      "execution_count": 14,
      "outputs": [
        {
          "output_type": "stream",
          "text": [
            "[nltk_data] Downloading package brown to /root/nltk_data...\n",
            "[nltk_data]   Unzipping corpora/brown.zip.\n"
          ],
          "name": "stdout"
        },
        {
          "output_type": "execute_result",
          "data": {
            "text/plain": [
              "True"
            ]
          },
          "metadata": {
            "tags": []
          },
          "execution_count": 14
        }
      ]
    },
    {
      "cell_type": "code",
      "metadata": {
        "colab": {
          "base_uri": "https://localhost:8080/"
        },
        "id": "GGECwOExgpgN",
        "outputId": "46b27444-897f-4338-ef8a-ba320f90d957"
      },
      "source": [
        "for sentence in blob.sentences:\r\n",
        "  print(sentence.sentiment.polarity)"
      ],
      "execution_count": 16,
      "outputs": [
        {
          "output_type": "stream",
          "text": [
            "0.06000000000000001\n",
            "-0.34166666666666673\n"
          ],
          "name": "stdout"
        }
      ]
    },
    {
      "cell_type": "code",
      "metadata": {
        "id": "1xcsXnkZgvGM"
      },
      "source": [
        ""
      ],
      "execution_count": null,
      "outputs": []
    }
  ]
}