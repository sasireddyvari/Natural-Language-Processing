{
  "nbformat": 4,
  "nbformat_minor": 0,
  "metadata": {
    "colab": {
      "name": "NLP.ipynb",
      "provenance": [],
      "collapsed_sections": [],
      "authorship_tag": "ABX9TyOfVM5lDktLJizxkwJzA8bw",
      "include_colab_link": true
    },
    "kernelspec": {
      "name": "python3",
      "display_name": "Python 3"
    }
  },
  "cells": [
    {
      "cell_type": "markdown",
      "metadata": {
        "id": "view-in-github",
        "colab_type": "text"
      },
      "source": [
        "<a href=\"https://colab.research.google.com/github/sasireddyvari/Natural-Language-Processing/blob/master/NLP.ipynb\" target=\"_parent\"><img src=\"https://colab.research.google.com/assets/colab-badge.svg\" alt=\"Open In Colab\"/></a>"
      ]
    },
    {
      "cell_type": "code",
      "metadata": {
        "colab": {
          "base_uri": "https://localhost:8080/",
          "height": 69
        },
        "id": "tzvGYgzim7mb",
        "outputId": "f8b48935-aa0e-4488-808e-1e5545110107"
      },
      "source": [
        "st='The English Wikipedia is the English-language edition of the free online encyclopedia Wikipedia. Founded on 15 January 2001, it is the first edition of Wikipedia and, as of April 2019, has the most articles of any edition.[2] As of October 2020, 11% of articles in all Wikipedias belong to the English-language edition. This share has gradually declined from more than 50 percent in 2003, due to the growth of Wikipedias in other languages.[3] As of 29 October 2020'\r\n",
        "st"
      ],
      "execution_count": null,
      "outputs": [
        {
          "output_type": "execute_result",
          "data": {
            "application/vnd.google.colaboratory.intrinsic+json": {
              "type": "string"
            },
            "text/plain": [
              "'The English Wikipedia is the English-language edition of the free online encyclopedia Wikipedia. Founded on 15 January 2001, it is the first edition of Wikipedia and, as of April 2019, has the most articles of any edition.[2] As of October 2020, 11% of articles in all Wikipedias belong to the English-language edition. This share has gradually declined from more than 50 percent in 2003, due to the growth of Wikipedias in other languages.[3] As of 29 October 2020'"
            ]
          },
          "metadata": {
            "tags": []
          },
          "execution_count": 92
        }
      ]
    },
    {
      "cell_type": "code",
      "metadata": {
        "colab": {
          "base_uri": "https://localhost:8080/",
          "height": 69
        },
        "id": "DJMLBCnZ0Fqr",
        "outputId": "d541a2ef-9167-4565-bc43-2ec752cf07c8"
      },
      "source": [
        "st.casefold()"
      ],
      "execution_count": null,
      "outputs": [
        {
          "output_type": "execute_result",
          "data": {
            "application/vnd.google.colaboratory.intrinsic+json": {
              "type": "string"
            },
            "text/plain": [
              "'the english wikipedia is the english-language edition of the free online encyclopedia wikipedia. founded on 15 january 2001, it is the first edition of wikipedia and, as of april 2019, has the most articles of any edition.[2] as of october 2020, 11% of articles in all wikipedias belong to the english-language edition. this share has gradually declined from more than 50 percent in 2003, due to the growth of wikipedias in other languages.[3] as of 29 october 2020'"
            ]
          },
          "metadata": {
            "tags": []
          },
          "execution_count": 65
        }
      ]
    },
    {
      "cell_type": "code",
      "metadata": {
        "colab": {
          "base_uri": "https://localhost:8080/"
        },
        "id": "Edz1YzIl0Lni",
        "outputId": "2bed5501-cd58-42c8-e7a7-b087e4052dd2"
      },
      "source": [
        "st.count(',')"
      ],
      "execution_count": null,
      "outputs": [
        {
          "output_type": "execute_result",
          "data": {
            "text/plain": [
              "5"
            ]
          },
          "metadata": {
            "tags": []
          },
          "execution_count": 69
        }
      ]
    },
    {
      "cell_type": "code",
      "metadata": {
        "colab": {
          "base_uri": "https://localhost:8080/"
        },
        "id": "EX9GUeG_0Ljq",
        "outputId": "c195f57a-da64-4cbd-ce95-f7fc7f1e4773"
      },
      "source": [
        "st.count('%')"
      ],
      "execution_count": null,
      "outputs": [
        {
          "output_type": "execute_result",
          "data": {
            "text/plain": [
              "1"
            ]
          },
          "metadata": {
            "tags": []
          },
          "execution_count": 70
        }
      ]
    },
    {
      "cell_type": "code",
      "metadata": {
        "colab": {
          "base_uri": "https://localhost:8080/"
        },
        "id": "bNJSy43z0Lhs",
        "outputId": "508b4e46-0c61-4d58-861a-15c8818f779c"
      },
      "source": [
        "st.encode()"
      ],
      "execution_count": null,
      "outputs": [
        {
          "output_type": "execute_result",
          "data": {
            "text/plain": [
              "b'The English Wikipedia is the English-language edition of the free online encyclopedia Wikipedia. Founded on 15 January 2001, it is the first edition of Wikipedia and, as of April 2019, has the most articles of any edition.[2] As of October 2020, 11% of articles in all Wikipedias belong to the English-language edition. This share has gradually declined from more than 50 percent in 2003, due to the growth of Wikipedias in other languages.[3] As of 29 October 2020'"
            ]
          },
          "metadata": {
            "tags": []
          },
          "execution_count": 72
        }
      ]
    },
    {
      "cell_type": "code",
      "metadata": {
        "colab": {
          "base_uri": "https://localhost:8080/"
        },
        "id": "xTy48Esm0LfW",
        "outputId": "4d0ae9b8-6910-47b8-992e-5038d039f562"
      },
      "source": [
        "st.find('[')"
      ],
      "execution_count": null,
      "outputs": [
        {
          "output_type": "execute_result",
          "data": {
            "text/plain": [
              "222"
            ]
          },
          "metadata": {
            "tags": []
          },
          "execution_count": 74
        }
      ]
    },
    {
      "cell_type": "code",
      "metadata": {
        "colab": {
          "base_uri": "https://localhost:8080/"
        },
        "id": "g6v3G9ZG0LdF",
        "outputId": "7f14a6e4-05fc-441c-c6c9-5a0f78bb9e76"
      },
      "source": [
        "']'.isidentifier()"
      ],
      "execution_count": null,
      "outputs": [
        {
          "output_type": "execute_result",
          "data": {
            "text/plain": [
              "False"
            ]
          },
          "metadata": {
            "tags": []
          },
          "execution_count": 75
        }
      ]
    },
    {
      "cell_type": "code",
      "metadata": {
        "colab": {
          "base_uri": "https://localhost:8080/",
          "height": 69
        },
        "id": "udlc8qHMzhsd",
        "outputId": "17769bc3-dcdd-4778-9c39-c1b943600204"
      },
      "source": [
        "st.replace('.',\" \")"
      ],
      "execution_count": null,
      "outputs": [
        {
          "output_type": "execute_result",
          "data": {
            "application/vnd.google.colaboratory.intrinsic+json": {
              "type": "string"
            },
            "text/plain": [
              "'The English Wikipedia is the English-language edition of the free online encyclopedia Wikipedia  Founded on 15 January 2001, it is the first edition of Wikipedia and, as of April 2019, has the most articles of any edition [2] As of October 2020, 11% of articles in all Wikipedias belong to the English-language edition  This share has gradually declined from more than 50 percent in 2003, due to the growth of Wikipedias in other languages [3] As of 29 October 2020'"
            ]
          },
          "metadata": {
            "tags": []
          },
          "execution_count": 64
        }
      ]
    },
    {
      "cell_type": "code",
      "metadata": {
        "id": "FIDcLlV2xx7T"
      },
      "source": [
        "st= re.sub('\\.',' ',st)"
      ],
      "execution_count": null,
      "outputs": []
    },
    {
      "cell_type": "code",
      "metadata": {
        "id": "g3aKPudax930"
      },
      "source": [
        "st= re.sub('\\,','',st)"
      ],
      "execution_count": null,
      "outputs": []
    },
    {
      "cell_type": "code",
      "metadata": {
        "id": "E32qrmQHxKqH"
      },
      "source": [
        "st=st.split()\r\n",
        "st"
      ],
      "execution_count": null,
      "outputs": []
    },
    {
      "cell_type": "code",
      "metadata": {
        "colab": {
          "base_uri": "https://localhost:8080/",
          "height": 69
        },
        "id": "MvhS88ajw7OL",
        "outputId": "d1165647-a5f3-4e1b-c8d1-93b2d76685c5"
      },
      "source": [
        "' '.join(val for val in st if val.isalnum())"
      ],
      "execution_count": null,
      "outputs": [
        {
          "output_type": "execute_result",
          "data": {
            "application/vnd.google.colaboratory.intrinsic+json": {
              "type": "string"
            },
            "text/plain": [
              "'The English Wikipedia is the edition of the free online encyclopedia Wikipedia Founded on 15 January 2001 it is the first edition of Wikipedia and as of April 2019 has the most articles of any edition As of October 2020 of articles in all Wikipedias belong to the edition This share has gradually declined from more than 50 percent in 2003 due to the growth of Wikipedias in other languages As of 29 October 2020'"
            ]
          },
          "metadata": {
            "tags": []
          },
          "execution_count": 57
        }
      ]
    },
    {
      "cell_type": "code",
      "metadata": {
        "colab": {
          "base_uri": "https://localhost:8080/"
        },
        "id": "fAjdFqW-yTRV",
        "outputId": "bc1ee472-c3bc-4ab1-b677-3c1ba3b6b8d5"
      },
      "source": [
        "'[347]'.isalnum()"
      ],
      "execution_count": null,
      "outputs": [
        {
          "output_type": "execute_result",
          "data": {
            "text/plain": [
              "False"
            ]
          },
          "metadata": {
            "tags": []
          },
          "execution_count": 61
        }
      ]
    },
    {
      "cell_type": "code",
      "metadata": {
        "id": "F39Oi8spm9VC"
      },
      "source": [
        "import re"
      ],
      "execution_count": null,
      "outputs": []
    },
    {
      "cell_type": "code",
      "metadata": {
        "id": "pD0Dpnbfpz9S"
      },
      "source": [
        "temp=st"
      ],
      "execution_count": null,
      "outputs": []
    },
    {
      "cell_type": "markdown",
      "metadata": {
        "id": "O-xhLTmSriEJ"
      },
      "source": [
        "findall"
      ]
    },
    {
      "cell_type": "code",
      "metadata": {
        "colab": {
          "base_uri": "https://localhost:8080/"
        },
        "id": "LfjsWX6erkcz",
        "outputId": "79b6da60-8606-487b-e2e0-ad140b1b937e"
      },
      "source": [
        "re.findall('0',temp)"
      ],
      "execution_count": null,
      "outputs": [
        {
          "output_type": "execute_result",
          "data": {
            "text/plain": [
              "['0', '0', '0', '0', '0', '0', '0', '0', '0', '0']"
            ]
          },
          "metadata": {
            "tags": []
          },
          "execution_count": 10
        }
      ]
    },
    {
      "cell_type": "markdown",
      "metadata": {
        "id": "5DEcYJ_5ry1P"
      },
      "source": [
        "search"
      ]
    },
    {
      "cell_type": "code",
      "metadata": {
        "id": "fS1-T9J_rkXA"
      },
      "source": [
        "x=re.search('\\d',temp)"
      ],
      "execution_count": null,
      "outputs": []
    },
    {
      "cell_type": "code",
      "metadata": {
        "colab": {
          "base_uri": "https://localhost:8080/"
        },
        "id": "0zUT-8jbrkU1",
        "outputId": "e741073a-4fb9-45b5-8583-511b034ba0f1"
      },
      "source": [
        "print(x)"
      ],
      "execution_count": null,
      "outputs": [
        {
          "output_type": "stream",
          "text": [
            "<_sre.SRE_Match object; span=(108, 109), match='1'>\n"
          ],
          "name": "stdout"
        }
      ]
    },
    {
      "cell_type": "code",
      "metadata": {
        "id": "FySXLtN92lBe"
      },
      "source": [
        ""
      ],
      "execution_count": null,
      "outputs": []
    },
    {
      "cell_type": "code",
      "metadata": {
        "colab": {
          "base_uri": "https://localhost:8080/"
        },
        "id": "aNRxDM5WrkSl",
        "outputId": "1ab7a87c-f8fc-4a0b-97b1-76398a6cb1a4"
      },
      "source": [
        "x.span()"
      ],
      "execution_count": null,
      "outputs": [
        {
          "output_type": "execute_result",
          "data": {
            "text/plain": [
              "(108, 109)"
            ]
          },
          "metadata": {
            "tags": []
          },
          "execution_count": 19
        }
      ]
    },
    {
      "cell_type": "code",
      "metadata": {
        "colab": {
          "base_uri": "https://localhost:8080/",
          "height": 69
        },
        "id": "XEc6xeBcst5y",
        "outputId": "f134a35e-802a-498d-d6d8-986453382186"
      },
      "source": [
        "x.string"
      ],
      "execution_count": null,
      "outputs": [
        {
          "output_type": "execute_result",
          "data": {
            "application/vnd.google.colaboratory.intrinsic+json": {
              "type": "string"
            },
            "text/plain": [
              "'The English Wikipedia is the English-language edition of the free online encyclopedia Wikipedia. Founded on 15 January 2001, it is the first edition of Wikipedia and, as of April 2019, has the most articles of any edition.[2] As of October 2020, 11% of articles in all Wikipedias belong to the English-language edition. This share has gradually declined from more than 50 percent in 2003, due to the growth of Wikipedias in other languages.[3] As of 29 October 2020'"
            ]
          },
          "metadata": {
            "tags": []
          },
          "execution_count": 20
        }
      ]
    },
    {
      "cell_type": "code",
      "metadata": {
        "colab": {
          "base_uri": "https://localhost:8080/",
          "height": 35
        },
        "id": "AW-SKajcst25",
        "outputId": "f6b1cf9c-51e7-4a14-dd4d-33e2659ea842"
      },
      "source": [
        "x.group()"
      ],
      "execution_count": null,
      "outputs": [
        {
          "output_type": "execute_result",
          "data": {
            "application/vnd.google.colaboratory.intrinsic+json": {
              "type": "string"
            },
            "text/plain": [
              "'1'"
            ]
          },
          "metadata": {
            "tags": []
          },
          "execution_count": 21
        }
      ]
    },
    {
      "cell_type": "markdown",
      "metadata": {
        "id": "qtKgITrMtDi_"
      },
      "source": [
        "split()"
      ]
    },
    {
      "cell_type": "code",
      "metadata": {
        "colab": {
          "base_uri": "https://localhost:8080/"
        },
        "id": "aqirCEfvstz8",
        "outputId": "d1fc768a-0bbf-440e-833a-da1682429ac0"
      },
      "source": [
        "re.split('\\s',temp) # white space character check"
      ],
      "execution_count": null,
      "outputs": [
        {
          "output_type": "execute_result",
          "data": {
            "text/plain": [
              "['The',\n",
              " 'English',\n",
              " 'Wikipedia',\n",
              " 'is',\n",
              " 'the',\n",
              " 'English-language',\n",
              " 'edition',\n",
              " 'of',\n",
              " 'the',\n",
              " 'free',\n",
              " 'online',\n",
              " 'encyclopedia',\n",
              " 'Wikipedia.',\n",
              " 'Founded',\n",
              " 'on',\n",
              " '15',\n",
              " 'January',\n",
              " '2001,',\n",
              " 'it',\n",
              " 'is',\n",
              " 'the',\n",
              " 'first',\n",
              " 'edition',\n",
              " 'of',\n",
              " 'Wikipedia',\n",
              " 'and,',\n",
              " 'as',\n",
              " 'of',\n",
              " 'April',\n",
              " '2019,',\n",
              " 'has',\n",
              " 'the',\n",
              " 'most',\n",
              " 'articles',\n",
              " 'of',\n",
              " 'any',\n",
              " 'edition.[2]',\n",
              " 'As',\n",
              " 'of',\n",
              " 'October',\n",
              " '2020,',\n",
              " '11%',\n",
              " 'of',\n",
              " 'articles',\n",
              " 'in',\n",
              " 'all',\n",
              " 'Wikipedias',\n",
              " 'belong',\n",
              " 'to',\n",
              " 'the',\n",
              " 'English-language',\n",
              " 'edition.',\n",
              " 'This',\n",
              " 'share',\n",
              " 'has',\n",
              " 'gradually',\n",
              " 'declined',\n",
              " 'from',\n",
              " 'more',\n",
              " 'than',\n",
              " '50',\n",
              " 'percent',\n",
              " 'in',\n",
              " '2003,',\n",
              " 'due',\n",
              " 'to',\n",
              " 'the',\n",
              " 'growth',\n",
              " 'of',\n",
              " 'Wikipedias',\n",
              " 'in',\n",
              " 'other',\n",
              " 'languages.[3]',\n",
              " 'As',\n",
              " 'of',\n",
              " '29',\n",
              " 'October',\n",
              " '2020']"
            ]
          },
          "metadata": {
            "tags": []
          },
          "execution_count": 22
        }
      ]
    },
    {
      "cell_type": "markdown",
      "metadata": {
        "id": "dHnpM2aTqnPm"
      },
      "source": [
        "sub"
      ]
    },
    {
      "cell_type": "code",
      "metadata": {
        "colab": {
          "base_uri": "https://localhost:8080/",
          "height": 69
        },
        "id": "bBdtZa8-pvfp",
        "outputId": "787daf9c-c5d7-4647-ce5c-95961e25fe1f"
      },
      "source": [
        "re.sub('\\d','0',temp) # \\ represents checks decimal digits and if available replace the character and can be restricted with count to replace"
      ],
      "execution_count": null,
      "outputs": [
        {
          "output_type": "execute_result",
          "data": {
            "application/vnd.google.colaboratory.intrinsic+json": {
              "type": "string"
            },
            "text/plain": [
              "'The English Wikipedia is the English-language edition of the free online encyclopedia Wikipedia. Founded on 00 January 0000, it is the first edition of Wikipedia and, as of April 0000, has the most articles of any edition.[0] As of October 0000, 00% of articles in all Wikipedias belong to the English-language edition. This share has gradually declined from more than 00 percent in 0000, due to the growth of Wikipedias in other languages.[0] As of 00 October 0000'"
            ]
          },
          "metadata": {
            "tags": []
          },
          "execution_count": 7
        }
      ]
    },
    {
      "cell_type": "code",
      "metadata": {
        "colab": {
          "base_uri": "https://localhost:8080/",
          "height": 69
        },
        "id": "iM7is1aJu14w",
        "outputId": "90128ba8-d24e-4237-ce8d-5bd67c44c7d1"
      },
      "source": [
        "temp"
      ],
      "execution_count": null,
      "outputs": [
        {
          "output_type": "execute_result",
          "data": {
            "application/vnd.google.colaboratory.intrinsic+json": {
              "type": "string"
            },
            "text/plain": [
              "'The English Wikipedia is the English-language edition of the free online encyclopedia Wikipedia. Founded on 15 January 2001, it is the first edition of Wikipedia and, as of April 2019, has the most articles of any edition.[2] As of October 2020, 11% of articles in all Wikipedias belong to the English-language edition. This share has gradually declined from more than 50 percent in 2003, due to the growth of Wikipedias in other languages.[3] As of 29 October 2020'"
            ]
          },
          "metadata": {
            "tags": []
          },
          "execution_count": 23
        }
      ]
    },
    {
      "cell_type": "code",
      "metadata": {
        "colab": {
          "base_uri": "https://localhost:8080/",
          "height": 69
        },
        "id": "O0HdpuGIrHRv",
        "outputId": "2fa170a2-b183-439a-f87b-1b914a0a2c15"
      },
      "source": [
        "temp=re.sub('\\.',\" \",temp)\r\n",
        "temp"
      ],
      "execution_count": null,
      "outputs": [
        {
          "output_type": "execute_result",
          "data": {
            "application/vnd.google.colaboratory.intrinsic+json": {
              "type": "string"
            },
            "text/plain": [
              "'The English Wikipedia is the English-language edition of the free online encyclopedia Wikipedia  Founded on 15 January 2001, it is the first edition of Wikipedia and, as of April 2019, has the most articles of any edition [2] As of October 2020, 11% of articles in all Wikipedias belong to the English-language edition  This share has gradually declined from more than 50 percent in 2003, due to the growth of Wikipedias in other languages [3] As of 29 October 2020'"
            ]
          },
          "metadata": {
            "tags": []
          },
          "execution_count": 26
        }
      ]
    },
    {
      "cell_type": "code",
      "metadata": {
        "colab": {
          "base_uri": "https://localhost:8080/",
          "height": 69
        },
        "id": "QfdEDpd3u6Fd",
        "outputId": "1becc746-a674-42bf-ebe7-ea43989cb7f7"
      },
      "source": [
        "re.sub('\\,',\" \",st)"
      ],
      "execution_count": null,
      "outputs": [
        {
          "output_type": "execute_result",
          "data": {
            "application/vnd.google.colaboratory.intrinsic+json": {
              "type": "string"
            },
            "text/plain": [
              "'The English Wikipedia is the English-language edition of the free online encyclopedia Wikipedia. Founded on 15 January 2001  it is the first edition of Wikipedia and  as of April 2019  has the most articles of any edition.[2] As of October 2020  11% of articles in all Wikipedias belong to the English-language edition. This share has gradually declined from more than 50 percent in 2003  due to the growth of Wikipedias in other languages.[3] As of 29 October 2020'"
            ]
          },
          "metadata": {
            "tags": []
          },
          "execution_count": 88
        }
      ]
    },
    {
      "cell_type": "code",
      "metadata": {
        "id": "KhUmwkTyvE8Q"
      },
      "source": [
        "import re\r\n",
        "def check_splcharacter(test): \r\n",
        "  string_check= re.compile('[@_!#$%^&*()<>?/\\|}{~:]') # special characters\r\n",
        "\r\n",
        "  if(string_check.search(test) == None): \r\n",
        "    print('sasi')\r\n",
        "    print(\"String does not contain Special Characters.\")\r\n",
        "        \r\n",
        "  else: \r\n",
        "    print(\"String contains Special Characters.\") \r\n",
        "    "
      ],
      "execution_count": null,
      "outputs": []
    },
    {
      "cell_type": "code",
      "metadata": {
        "colab": {
          "base_uri": "https://localhost:8080/"
        },
        "id": "npFAQWZUwAWL",
        "outputId": "813dbd23-edf7-4b36-ef43-62d13eff009c"
      },
      "source": [
        "check_splcharacter(st) "
      ],
      "execution_count": null,
      "outputs": [
        {
          "output_type": "stream",
          "text": [
            "String contains Special Characters.\n"
          ],
          "name": "stdout"
        }
      ]
    },
    {
      "cell_type": "markdown",
      "metadata": {
        "id": "A-1_8eT_gvjB"
      },
      "source": [
        "Text Mining and NLP"
      ]
    },
    {
      "cell_type": "code",
      "metadata": {
        "id": "EhdZ4p6U29EC"
      },
      "source": [
        "import os\r\n",
        "import nltk\r\n",
        "import nltk.corpus"
      ],
      "execution_count": null,
      "outputs": []
    },
    {
      "cell_type": "code",
      "metadata": {
        "colab": {
          "base_uri": "https://localhost:8080/",
          "height": 282
        },
        "id": "MF3Swc70g3vh",
        "outputId": "19b3d182-8030-4c72-debc-011611287f71"
      },
      "source": [
        "print(os.listdir(nltk.data.find('corpora')))"
      ],
      "execution_count": null,
      "outputs": [
        {
          "output_type": "error",
          "ename": "IndexError",
          "evalue": "ignored",
          "traceback": [
            "\u001b[0;31m---------------------------------------------------------------------------\u001b[0m",
            "\u001b[0;31mIndexError\u001b[0m                                Traceback (most recent call last)",
            "\u001b[0;32m<ipython-input-2-20ececcea799>\u001b[0m in \u001b[0;36m<module>\u001b[0;34m()\u001b[0m\n\u001b[0;32m----> 1\u001b[0;31m \u001b[0mprint\u001b[0m\u001b[0;34m(\u001b[0m\u001b[0mos\u001b[0m\u001b[0;34m.\u001b[0m\u001b[0mlistdir\u001b[0m\u001b[0;34m(\u001b[0m\u001b[0mnltk\u001b[0m\u001b[0;34m.\u001b[0m\u001b[0mdata\u001b[0m\u001b[0;34m.\u001b[0m\u001b[0mfind\u001b[0m\u001b[0;34m(\u001b[0m\u001b[0;34m'corpora'\u001b[0m\u001b[0;34m)\u001b[0m\u001b[0;34m)\u001b[0m\u001b[0;34m)\u001b[0m\u001b[0;34m\u001b[0m\u001b[0;34m\u001b[0m\u001b[0m\n\u001b[0m",
            "\u001b[0;32m/usr/local/lib/python3.6/dist-packages/nltk/data.py\u001b[0m in \u001b[0;36mfind\u001b[0;34m(resource_name, paths)\u001b[0m\n\u001b[1;32m    656\u001b[0m \u001b[0;34m\u001b[0m\u001b[0m\n\u001b[1;32m    657\u001b[0m     \u001b[0;31m# Identify the package (i.e. the .zip file) to download.\u001b[0m\u001b[0;34m\u001b[0m\u001b[0;34m\u001b[0m\u001b[0;34m\u001b[0m\u001b[0m\n\u001b[0;32m--> 658\u001b[0;31m     \u001b[0mresource_zipname\u001b[0m \u001b[0;34m=\u001b[0m \u001b[0mresource_name\u001b[0m\u001b[0;34m.\u001b[0m\u001b[0msplit\u001b[0m\u001b[0;34m(\u001b[0m\u001b[0;34m'/'\u001b[0m\u001b[0;34m)\u001b[0m\u001b[0;34m[\u001b[0m\u001b[0;36m1\u001b[0m\u001b[0;34m]\u001b[0m\u001b[0;34m\u001b[0m\u001b[0;34m\u001b[0m\u001b[0m\n\u001b[0m\u001b[1;32m    659\u001b[0m     \u001b[0;32mif\u001b[0m \u001b[0mresource_zipname\u001b[0m\u001b[0;34m.\u001b[0m\u001b[0mendswith\u001b[0m\u001b[0;34m(\u001b[0m\u001b[0;34m'.zip'\u001b[0m\u001b[0;34m)\u001b[0m\u001b[0;34m:\u001b[0m\u001b[0;34m\u001b[0m\u001b[0;34m\u001b[0m\u001b[0m\n\u001b[1;32m    660\u001b[0m         \u001b[0mresource_zipname\u001b[0m \u001b[0;34m=\u001b[0m \u001b[0mresource_zipname\u001b[0m\u001b[0;34m.\u001b[0m\u001b[0mrpartition\u001b[0m\u001b[0;34m(\u001b[0m\u001b[0;34m'.'\u001b[0m\u001b[0;34m)\u001b[0m\u001b[0;34m[\u001b[0m\u001b[0;36m0\u001b[0m\u001b[0;34m]\u001b[0m\u001b[0;34m\u001b[0m\u001b[0;34m\u001b[0m\u001b[0m\n",
            "\u001b[0;31mIndexError\u001b[0m: list index out of range"
          ]
        }
      ]
    },
    {
      "cell_type": "code",
      "metadata": {
        "colab": {
          "base_uri": "https://localhost:8080/",
          "height": 986
        },
        "id": "4aS6TsPAhMIb",
        "outputId": "2548cc52-6650-4994-fbfa-4306367b28c4"
      },
      "source": [
        "nltk.corpus.gutenberg.fields()"
      ],
      "execution_count": null,
      "outputs": [
        {
          "output_type": "error",
          "ename": "LookupError",
          "evalue": "ignored",
          "traceback": [
            "\u001b[0;31m---------------------------------------------------------------------------\u001b[0m",
            "\u001b[0;31mLookupError\u001b[0m                               Traceback (most recent call last)",
            "\u001b[0;32m/usr/local/lib/python3.6/dist-packages/nltk/corpus/util.py\u001b[0m in \u001b[0;36m__load\u001b[0;34m(self)\u001b[0m\n\u001b[1;32m     79\u001b[0m             \u001b[0;32mexcept\u001b[0m \u001b[0mLookupError\u001b[0m \u001b[0;32mas\u001b[0m \u001b[0me\u001b[0m\u001b[0;34m:\u001b[0m\u001b[0;34m\u001b[0m\u001b[0;34m\u001b[0m\u001b[0m\n\u001b[0;32m---> 80\u001b[0;31m                 \u001b[0;32mtry\u001b[0m\u001b[0;34m:\u001b[0m \u001b[0mroot\u001b[0m \u001b[0;34m=\u001b[0m \u001b[0mnltk\u001b[0m\u001b[0;34m.\u001b[0m\u001b[0mdata\u001b[0m\u001b[0;34m.\u001b[0m\u001b[0mfind\u001b[0m\u001b[0;34m(\u001b[0m\u001b[0;34m'{}/{}'\u001b[0m\u001b[0;34m.\u001b[0m\u001b[0mformat\u001b[0m\u001b[0;34m(\u001b[0m\u001b[0mself\u001b[0m\u001b[0;34m.\u001b[0m\u001b[0msubdir\u001b[0m\u001b[0;34m,\u001b[0m \u001b[0mzip_name\u001b[0m\u001b[0;34m)\u001b[0m\u001b[0;34m)\u001b[0m\u001b[0;34m\u001b[0m\u001b[0;34m\u001b[0m\u001b[0m\n\u001b[0m\u001b[1;32m     81\u001b[0m                 \u001b[0;32mexcept\u001b[0m \u001b[0mLookupError\u001b[0m\u001b[0;34m:\u001b[0m \u001b[0;32mraise\u001b[0m \u001b[0me\u001b[0m\u001b[0;34m\u001b[0m\u001b[0;34m\u001b[0m\u001b[0m\n",
            "\u001b[0;32m/usr/local/lib/python3.6/dist-packages/nltk/data.py\u001b[0m in \u001b[0;36mfind\u001b[0;34m(resource_name, paths)\u001b[0m\n\u001b[1;32m    672\u001b[0m     \u001b[0mresource_not_found\u001b[0m \u001b[0;34m=\u001b[0m \u001b[0;34m'\\n%s\\n%s\\n%s\\n'\u001b[0m \u001b[0;34m%\u001b[0m \u001b[0;34m(\u001b[0m\u001b[0msep\u001b[0m\u001b[0;34m,\u001b[0m \u001b[0mmsg\u001b[0m\u001b[0;34m,\u001b[0m \u001b[0msep\u001b[0m\u001b[0;34m)\u001b[0m\u001b[0;34m\u001b[0m\u001b[0;34m\u001b[0m\u001b[0m\n\u001b[0;32m--> 673\u001b[0;31m     \u001b[0;32mraise\u001b[0m \u001b[0mLookupError\u001b[0m\u001b[0;34m(\u001b[0m\u001b[0mresource_not_found\u001b[0m\u001b[0;34m)\u001b[0m\u001b[0;34m\u001b[0m\u001b[0;34m\u001b[0m\u001b[0m\n\u001b[0m\u001b[1;32m    674\u001b[0m \u001b[0;34m\u001b[0m\u001b[0m\n",
            "\u001b[0;31mLookupError\u001b[0m: \n**********************************************************************\n  Resource \u001b[93mgutenberg\u001b[0m not found.\n  Please use the NLTK Downloader to obtain the resource:\n\n  \u001b[31m>>> import nltk\n  >>> nltk.download('gutenberg')\n  \u001b[0m\n  Searched in:\n    - '/root/nltk_data'\n    - '/usr/share/nltk_data'\n    - '/usr/local/share/nltk_data'\n    - '/usr/lib/nltk_data'\n    - '/usr/local/lib/nltk_data'\n    - '/usr/nltk_data'\n    - '/usr/lib/nltk_data'\n**********************************************************************\n",
            "\nDuring handling of the above exception, another exception occurred:\n",
            "\u001b[0;31mLookupError\u001b[0m                               Traceback (most recent call last)",
            "\u001b[0;32m<ipython-input-3-65ca8d63004a>\u001b[0m in \u001b[0;36m<module>\u001b[0;34m()\u001b[0m\n\u001b[0;32m----> 1\u001b[0;31m \u001b[0mnltk\u001b[0m\u001b[0;34m.\u001b[0m\u001b[0mcorpus\u001b[0m\u001b[0;34m.\u001b[0m\u001b[0mgutenberg\u001b[0m\u001b[0;34m.\u001b[0m\u001b[0mfields\u001b[0m\u001b[0;34m(\u001b[0m\u001b[0;34m)\u001b[0m\u001b[0;34m\u001b[0m\u001b[0;34m\u001b[0m\u001b[0m\n\u001b[0m",
            "\u001b[0;32m/usr/local/lib/python3.6/dist-packages/nltk/corpus/util.py\u001b[0m in \u001b[0;36m__getattr__\u001b[0;34m(self, attr)\u001b[0m\n\u001b[1;32m    114\u001b[0m             \u001b[0;32mraise\u001b[0m \u001b[0mAttributeError\u001b[0m\u001b[0;34m(\u001b[0m\u001b[0;34m\"LazyCorpusLoader object has no attribute '__bases__'\"\u001b[0m\u001b[0;34m)\u001b[0m\u001b[0;34m\u001b[0m\u001b[0;34m\u001b[0m\u001b[0m\n\u001b[1;32m    115\u001b[0m \u001b[0;34m\u001b[0m\u001b[0m\n\u001b[0;32m--> 116\u001b[0;31m         \u001b[0mself\u001b[0m\u001b[0;34m.\u001b[0m\u001b[0m__load\u001b[0m\u001b[0;34m(\u001b[0m\u001b[0;34m)\u001b[0m\u001b[0;34m\u001b[0m\u001b[0;34m\u001b[0m\u001b[0m\n\u001b[0m\u001b[1;32m    117\u001b[0m         \u001b[0;31m# This looks circular, but its not, since __load() changes our\u001b[0m\u001b[0;34m\u001b[0m\u001b[0;34m\u001b[0m\u001b[0;34m\u001b[0m\u001b[0m\n\u001b[1;32m    118\u001b[0m         \u001b[0;31m# __class__ to something new:\u001b[0m\u001b[0;34m\u001b[0m\u001b[0;34m\u001b[0m\u001b[0;34m\u001b[0m\u001b[0m\n",
            "\u001b[0;32m/usr/local/lib/python3.6/dist-packages/nltk/corpus/util.py\u001b[0m in \u001b[0;36m__load\u001b[0;34m(self)\u001b[0m\n\u001b[1;32m     79\u001b[0m             \u001b[0;32mexcept\u001b[0m \u001b[0mLookupError\u001b[0m \u001b[0;32mas\u001b[0m \u001b[0me\u001b[0m\u001b[0;34m:\u001b[0m\u001b[0;34m\u001b[0m\u001b[0;34m\u001b[0m\u001b[0m\n\u001b[1;32m     80\u001b[0m                 \u001b[0;32mtry\u001b[0m\u001b[0;34m:\u001b[0m \u001b[0mroot\u001b[0m \u001b[0;34m=\u001b[0m \u001b[0mnltk\u001b[0m\u001b[0;34m.\u001b[0m\u001b[0mdata\u001b[0m\u001b[0;34m.\u001b[0m\u001b[0mfind\u001b[0m\u001b[0;34m(\u001b[0m\u001b[0;34m'{}/{}'\u001b[0m\u001b[0;34m.\u001b[0m\u001b[0mformat\u001b[0m\u001b[0;34m(\u001b[0m\u001b[0mself\u001b[0m\u001b[0;34m.\u001b[0m\u001b[0msubdir\u001b[0m\u001b[0;34m,\u001b[0m \u001b[0mzip_name\u001b[0m\u001b[0;34m)\u001b[0m\u001b[0;34m)\u001b[0m\u001b[0;34m\u001b[0m\u001b[0;34m\u001b[0m\u001b[0m\n\u001b[0;32m---> 81\u001b[0;31m                 \u001b[0;32mexcept\u001b[0m \u001b[0mLookupError\u001b[0m\u001b[0;34m:\u001b[0m \u001b[0;32mraise\u001b[0m \u001b[0me\u001b[0m\u001b[0;34m\u001b[0m\u001b[0;34m\u001b[0m\u001b[0m\n\u001b[0m\u001b[1;32m     82\u001b[0m \u001b[0;34m\u001b[0m\u001b[0m\n\u001b[1;32m     83\u001b[0m         \u001b[0;31m# Load the corpus.\u001b[0m\u001b[0;34m\u001b[0m\u001b[0;34m\u001b[0m\u001b[0;34m\u001b[0m\u001b[0m\n",
            "\u001b[0;32m/usr/local/lib/python3.6/dist-packages/nltk/corpus/util.py\u001b[0m in \u001b[0;36m__load\u001b[0;34m(self)\u001b[0m\n\u001b[1;32m     76\u001b[0m         \u001b[0;32melse\u001b[0m\u001b[0;34m:\u001b[0m\u001b[0;34m\u001b[0m\u001b[0;34m\u001b[0m\u001b[0m\n\u001b[1;32m     77\u001b[0m             \u001b[0;32mtry\u001b[0m\u001b[0;34m:\u001b[0m\u001b[0;34m\u001b[0m\u001b[0;34m\u001b[0m\u001b[0m\n\u001b[0;32m---> 78\u001b[0;31m                 \u001b[0mroot\u001b[0m \u001b[0;34m=\u001b[0m \u001b[0mnltk\u001b[0m\u001b[0;34m.\u001b[0m\u001b[0mdata\u001b[0m\u001b[0;34m.\u001b[0m\u001b[0mfind\u001b[0m\u001b[0;34m(\u001b[0m\u001b[0;34m'{}/{}'\u001b[0m\u001b[0;34m.\u001b[0m\u001b[0mformat\u001b[0m\u001b[0;34m(\u001b[0m\u001b[0mself\u001b[0m\u001b[0;34m.\u001b[0m\u001b[0msubdir\u001b[0m\u001b[0;34m,\u001b[0m \u001b[0mself\u001b[0m\u001b[0;34m.\u001b[0m\u001b[0m__name\u001b[0m\u001b[0;34m)\u001b[0m\u001b[0;34m)\u001b[0m\u001b[0;34m\u001b[0m\u001b[0;34m\u001b[0m\u001b[0m\n\u001b[0m\u001b[1;32m     79\u001b[0m             \u001b[0;32mexcept\u001b[0m \u001b[0mLookupError\u001b[0m \u001b[0;32mas\u001b[0m \u001b[0me\u001b[0m\u001b[0;34m:\u001b[0m\u001b[0;34m\u001b[0m\u001b[0;34m\u001b[0m\u001b[0m\n\u001b[1;32m     80\u001b[0m                 \u001b[0;32mtry\u001b[0m\u001b[0;34m:\u001b[0m \u001b[0mroot\u001b[0m \u001b[0;34m=\u001b[0m \u001b[0mnltk\u001b[0m\u001b[0;34m.\u001b[0m\u001b[0mdata\u001b[0m\u001b[0;34m.\u001b[0m\u001b[0mfind\u001b[0m\u001b[0;34m(\u001b[0m\u001b[0;34m'{}/{}'\u001b[0m\u001b[0;34m.\u001b[0m\u001b[0mformat\u001b[0m\u001b[0;34m(\u001b[0m\u001b[0mself\u001b[0m\u001b[0;34m.\u001b[0m\u001b[0msubdir\u001b[0m\u001b[0;34m,\u001b[0m \u001b[0mzip_name\u001b[0m\u001b[0;34m)\u001b[0m\u001b[0;34m)\u001b[0m\u001b[0;34m\u001b[0m\u001b[0;34m\u001b[0m\u001b[0m\n",
            "\u001b[0;32m/usr/local/lib/python3.6/dist-packages/nltk/data.py\u001b[0m in \u001b[0;36mfind\u001b[0;34m(resource_name, paths)\u001b[0m\n\u001b[1;32m    671\u001b[0m     \u001b[0msep\u001b[0m \u001b[0;34m=\u001b[0m \u001b[0;34m'*'\u001b[0m \u001b[0;34m*\u001b[0m \u001b[0;36m70\u001b[0m\u001b[0;34m\u001b[0m\u001b[0;34m\u001b[0m\u001b[0m\n\u001b[1;32m    672\u001b[0m     \u001b[0mresource_not_found\u001b[0m \u001b[0;34m=\u001b[0m \u001b[0;34m'\\n%s\\n%s\\n%s\\n'\u001b[0m \u001b[0;34m%\u001b[0m \u001b[0;34m(\u001b[0m\u001b[0msep\u001b[0m\u001b[0;34m,\u001b[0m \u001b[0mmsg\u001b[0m\u001b[0;34m,\u001b[0m \u001b[0msep\u001b[0m\u001b[0;34m)\u001b[0m\u001b[0;34m\u001b[0m\u001b[0;34m\u001b[0m\u001b[0m\n\u001b[0;32m--> 673\u001b[0;31m     \u001b[0;32mraise\u001b[0m \u001b[0mLookupError\u001b[0m\u001b[0;34m(\u001b[0m\u001b[0mresource_not_found\u001b[0m\u001b[0;34m)\u001b[0m\u001b[0;34m\u001b[0m\u001b[0;34m\u001b[0m\u001b[0m\n\u001b[0m\u001b[1;32m    674\u001b[0m \u001b[0;34m\u001b[0m\u001b[0m\n\u001b[1;32m    675\u001b[0m \u001b[0;34m\u001b[0m\u001b[0m\n",
            "\u001b[0;31mLookupError\u001b[0m: \n**********************************************************************\n  Resource \u001b[93mgutenberg\u001b[0m not found.\n  Please use the NLTK Downloader to obtain the resource:\n\n  \u001b[31m>>> import nltk\n  >>> nltk.download('gutenberg')\n  \u001b[0m\n  Searched in:\n    - '/root/nltk_data'\n    - '/usr/share/nltk_data'\n    - '/usr/local/share/nltk_data'\n    - '/usr/lib/nltk_data'\n    - '/usr/local/lib/nltk_data'\n    - '/usr/nltk_data'\n    - '/usr/lib/nltk_data'\n**********************************************************************\n"
          ]
        }
      ]
    },
    {
      "cell_type": "code",
      "metadata": {
        "colab": {
          "base_uri": "https://localhost:8080/"
        },
        "id": "SOm-QnLahrW0",
        "outputId": "5a759b4c-a364-4453-a0dd-5d8cb952d3f4"
      },
      "source": [
        "nltk.download('gutenberg')"
      ],
      "execution_count": null,
      "outputs": [
        {
          "output_type": "stream",
          "text": [
            "[nltk_data] Downloading package gutenberg to /root/nltk_data...\n",
            "[nltk_data]   Package gutenberg is already up-to-date!\n"
          ],
          "name": "stdout"
        },
        {
          "output_type": "execute_result",
          "data": {
            "text/plain": [
              "True"
            ]
          },
          "metadata": {
            "tags": []
          },
          "execution_count": 5
        }
      ]
    },
    {
      "cell_type": "code",
      "metadata": {
        "colab": {
          "base_uri": "https://localhost:8080/"
        },
        "id": "lNITj6zVh6Fz",
        "outputId": "45fbf986-5ef0-4ec4-ef6d-a504e1a9b0b7"
      },
      "source": [
        "nltk.corpus.gutenberg.fileids()"
      ],
      "execution_count": null,
      "outputs": [
        {
          "output_type": "execute_result",
          "data": {
            "text/plain": [
              "['austen-emma.txt',\n",
              " 'austen-persuasion.txt',\n",
              " 'austen-sense.txt',\n",
              " 'bible-kjv.txt',\n",
              " 'blake-poems.txt',\n",
              " 'bryant-stories.txt',\n",
              " 'burgess-busterbrown.txt',\n",
              " 'carroll-alice.txt',\n",
              " 'chesterton-ball.txt',\n",
              " 'chesterton-brown.txt',\n",
              " 'chesterton-thursday.txt',\n",
              " 'edgeworth-parents.txt',\n",
              " 'melville-moby_dick.txt',\n",
              " 'milton-paradise.txt',\n",
              " 'shakespeare-caesar.txt',\n",
              " 'shakespeare-hamlet.txt',\n",
              " 'shakespeare-macbeth.txt',\n",
              " 'whitman-leaves.txt']"
            ]
          },
          "metadata": {
            "tags": []
          },
          "execution_count": 8
        }
      ]
    },
    {
      "cell_type": "code",
      "metadata": {
        "colab": {
          "base_uri": "https://localhost:8080/",
          "height": 69
        },
        "id": "bMt5WlpViGBG",
        "outputId": "0ab2d832-b8be-45ca-bf97-b5f846733cf0"
      },
      "source": [
        "st='The English Wikipedia is the English-language edition of the free online encyclopedia Wikipedia. Founded on 15 January 2001, it is the first edition of Wikipedia and, as of April 2019, has the most articles of any edition.[2] As of October 2020, 11% of articles in all Wikipedias belong to the English-language edition. This share has gradually declined from more than 50 percent in 2003, due to the growth of Wikipedias in other languages.[3] As of 29 October 2020'\r\n",
        "st"
      ],
      "execution_count": null,
      "outputs": [
        {
          "output_type": "execute_result",
          "data": {
            "application/vnd.google.colaboratory.intrinsic+json": {
              "type": "string"
            },
            "text/plain": [
              "'The English Wikipedia is the English-language edition of the free online encyclopedia Wikipedia. Founded on 15 January 2001, it is the first edition of Wikipedia and, as of April 2019, has the most articles of any edition.[2] As of October 2020, 11% of articles in all Wikipedias belong to the English-language edition. This share has gradually declined from more than 50 percent in 2003, due to the growth of Wikipedias in other languages.[3] As of 29 October 2020'"
            ]
          },
          "metadata": {
            "tags": []
          },
          "execution_count": 9
        }
      ]
    },
    {
      "cell_type": "code",
      "metadata": {
        "id": "FRreim6QiqKO"
      },
      "source": [
        "from nltk.tokenize import word_tokenize"
      ],
      "execution_count": null,
      "outputs": []
    },
    {
      "cell_type": "code",
      "metadata": {
        "colab": {
          "base_uri": "https://localhost:8080/"
        },
        "id": "Pv57pmwFizqu",
        "outputId": "5c5debdf-9575-429f-b6eb-fdf1b2d891e2"
      },
      "source": [
        "nltk.download('punkt')"
      ],
      "execution_count": null,
      "outputs": [
        {
          "output_type": "stream",
          "text": [
            "[nltk_data] Downloading package punkt to /root/nltk_data...\n",
            "[nltk_data]   Unzipping tokenizers/punkt.zip.\n"
          ],
          "name": "stdout"
        },
        {
          "output_type": "execute_result",
          "data": {
            "text/plain": [
              "True"
            ]
          },
          "metadata": {
            "tags": []
          },
          "execution_count": 12
        }
      ]
    },
    {
      "cell_type": "code",
      "metadata": {
        "colab": {
          "base_uri": "https://localhost:8080/"
        },
        "id": "04HuKLETi1wZ",
        "outputId": "a255dc32-b6fc-4167-8db7-5cadfe9dc0cc"
      },
      "source": [
        "words=word_tokenize(st) # based on white space and punctuation\r\n",
        "words"
      ],
      "execution_count": null,
      "outputs": [
        {
          "output_type": "execute_result",
          "data": {
            "text/plain": [
              "['The',\n",
              " 'English',\n",
              " 'Wikipedia',\n",
              " 'is',\n",
              " 'the',\n",
              " 'English-language',\n",
              " 'edition',\n",
              " 'of',\n",
              " 'the',\n",
              " 'free',\n",
              " 'online',\n",
              " 'encyclopedia',\n",
              " 'Wikipedia',\n",
              " '.',\n",
              " 'Founded',\n",
              " 'on',\n",
              " '15',\n",
              " 'January',\n",
              " '2001',\n",
              " ',',\n",
              " 'it',\n",
              " 'is',\n",
              " 'the',\n",
              " 'first',\n",
              " 'edition',\n",
              " 'of',\n",
              " 'Wikipedia',\n",
              " 'and',\n",
              " ',',\n",
              " 'as',\n",
              " 'of',\n",
              " 'April',\n",
              " '2019',\n",
              " ',',\n",
              " 'has',\n",
              " 'the',\n",
              " 'most',\n",
              " 'articles',\n",
              " 'of',\n",
              " 'any',\n",
              " 'edition',\n",
              " '.',\n",
              " '[',\n",
              " '2',\n",
              " ']',\n",
              " 'As',\n",
              " 'of',\n",
              " 'October',\n",
              " '2020',\n",
              " ',',\n",
              " '11',\n",
              " '%',\n",
              " 'of',\n",
              " 'articles',\n",
              " 'in',\n",
              " 'all',\n",
              " 'Wikipedias',\n",
              " 'belong',\n",
              " 'to',\n",
              " 'the',\n",
              " 'English-language',\n",
              " 'edition',\n",
              " '.',\n",
              " 'This',\n",
              " 'share',\n",
              " 'has',\n",
              " 'gradually',\n",
              " 'declined',\n",
              " 'from',\n",
              " 'more',\n",
              " 'than',\n",
              " '50',\n",
              " 'percent',\n",
              " 'in',\n",
              " '2003',\n",
              " ',',\n",
              " 'due',\n",
              " 'to',\n",
              " 'the',\n",
              " 'growth',\n",
              " 'of',\n",
              " 'Wikipedias',\n",
              " 'in',\n",
              " 'other',\n",
              " 'languages',\n",
              " '.',\n",
              " '[',\n",
              " '3',\n",
              " ']',\n",
              " 'As',\n",
              " 'of',\n",
              " '29',\n",
              " 'October',\n",
              " '2020']"
            ]
          },
          "metadata": {
            "tags": []
          },
          "execution_count": 14
        }
      ]
    },
    {
      "cell_type": "code",
      "metadata": {
        "colab": {
          "base_uri": "https://localhost:8080/"
        },
        "id": "A_agbnLhi65a",
        "outputId": "6680d5c8-8661-48b9-9dfd-e8f1557953dc"
      },
      "source": [
        "len(words)"
      ],
      "execution_count": null,
      "outputs": [
        {
          "output_type": "execute_result",
          "data": {
            "text/plain": [
              "94"
            ]
          },
          "metadata": {
            "tags": []
          },
          "execution_count": 16
        }
      ]
    },
    {
      "cell_type": "code",
      "metadata": {
        "id": "f8XNkV8KjEAi"
      },
      "source": [
        "from nltk.probability import FreqDist"
      ],
      "execution_count": null,
      "outputs": []
    },
    {
      "cell_type": "code",
      "metadata": {
        "id": "dG5_7Wm9kMwt"
      },
      "source": [
        "char_frequency = FreqDist(st)"
      ],
      "execution_count": null,
      "outputs": []
    },
    {
      "cell_type": "code",
      "metadata": {
        "colab": {
          "base_uri": "https://localhost:8080/"
        },
        "id": "lR6lEiR2kSDY",
        "outputId": "004231b7-51b6-4203-8d5a-a5f67d414bcc"
      },
      "source": [
        "char_frequency"
      ],
      "execution_count": null,
      "outputs": [
        {
          "output_type": "execute_result",
          "data": {
            "text/plain": [
              "FreqDist({' ': 77,\n",
              "          '%': 1,\n",
              "          ',': 5,\n",
              "          '-': 2,\n",
              "          '.': 4,\n",
              "          '0': 10,\n",
              "          '1': 5,\n",
              "          '2': 9,\n",
              "          '3': 2,\n",
              "          '5': 2,\n",
              "          '9': 2,\n",
              "          'A': 3,\n",
              "          'E': 3,\n",
              "          'F': 1,\n",
              "          'J': 1,\n",
              "          'O': 2,\n",
              "          'T': 2,\n",
              "          'W': 5,\n",
              "          '[': 2,\n",
              "          ']': 2,\n",
              "          'a': 26,\n",
              "          'b': 3,\n",
              "          'c': 8,\n",
              "          'd': 17,\n",
              "          'e': 38,\n",
              "          'f': 11,\n",
              "          'g': 12,\n",
              "          'h': 17,\n",
              "          'i': 40,\n",
              "          'k': 5,\n",
              "          'l': 17,\n",
              "          'm': 3,\n",
              "          'n': 25,\n",
              "          'o': 26,\n",
              "          'p': 8,\n",
              "          'r': 15,\n",
              "          's': 19,\n",
              "          't': 23,\n",
              "          'u': 7,\n",
              "          'w': 1,\n",
              "          'y': 4})"
            ]
          },
          "metadata": {
            "tags": []
          },
          "execution_count": 32
        }
      ]
    },
    {
      "cell_type": "code",
      "metadata": {
        "id": "anIrRmF0kTPr"
      },
      "source": [
        "words_frequency= FreqDist()"
      ],
      "execution_count": null,
      "outputs": []
    },
    {
      "cell_type": "code",
      "metadata": {
        "colab": {
          "base_uri": "https://localhost:8080/"
        },
        "id": "CLeeJFYHlGLu",
        "outputId": "c52d9454-5906-4769-b079-a406d5ab6d62"
      },
      "source": [
        "words"
      ],
      "execution_count": null,
      "outputs": [
        {
          "output_type": "execute_result",
          "data": {
            "text/plain": [
              "['The',\n",
              " 'English',\n",
              " 'Wikipedia',\n",
              " 'is',\n",
              " 'the',\n",
              " 'English-language',\n",
              " 'edition',\n",
              " 'of',\n",
              " 'the',\n",
              " 'free',\n",
              " 'online',\n",
              " 'encyclopedia',\n",
              " 'Wikipedia',\n",
              " '.',\n",
              " 'Founded',\n",
              " 'on',\n",
              " '15',\n",
              " 'January',\n",
              " '2001',\n",
              " ',',\n",
              " 'it',\n",
              " 'is',\n",
              " 'the',\n",
              " 'first',\n",
              " 'edition',\n",
              " 'of',\n",
              " 'Wikipedia',\n",
              " 'and',\n",
              " ',',\n",
              " 'as',\n",
              " 'of',\n",
              " 'April',\n",
              " '2019',\n",
              " ',',\n",
              " 'has',\n",
              " 'the',\n",
              " 'most',\n",
              " 'articles',\n",
              " 'of',\n",
              " 'any',\n",
              " 'edition',\n",
              " '.',\n",
              " '[',\n",
              " '2',\n",
              " ']',\n",
              " 'As',\n",
              " 'of',\n",
              " 'October',\n",
              " '2020',\n",
              " ',',\n",
              " '11',\n",
              " '%',\n",
              " 'of',\n",
              " 'articles',\n",
              " 'in',\n",
              " 'all',\n",
              " 'Wikipedias',\n",
              " 'belong',\n",
              " 'to',\n",
              " 'the',\n",
              " 'English-language',\n",
              " 'edition',\n",
              " '.',\n",
              " 'This',\n",
              " 'share',\n",
              " 'has',\n",
              " 'gradually',\n",
              " 'declined',\n",
              " 'from',\n",
              " 'more',\n",
              " 'than',\n",
              " '50',\n",
              " 'percent',\n",
              " 'in',\n",
              " '2003',\n",
              " ',',\n",
              " 'due',\n",
              " 'to',\n",
              " 'the',\n",
              " 'growth',\n",
              " 'of',\n",
              " 'Wikipedias',\n",
              " 'in',\n",
              " 'other',\n",
              " 'languages',\n",
              " '.',\n",
              " '[',\n",
              " '3',\n",
              " ']',\n",
              " 'As',\n",
              " 'of',\n",
              " '29',\n",
              " 'October',\n",
              " '2020']"
            ]
          },
          "metadata": {
            "tags": []
          },
          "execution_count": 34
        }
      ]
    },
    {
      "cell_type": "code",
      "metadata": {
        "colab": {
          "base_uri": "https://localhost:8080/"
        },
        "id": "GUiVEjfTkyP7",
        "outputId": "f1346aa7-ba2c-44ec-b1b6-4674ac54abe0"
      },
      "source": [
        "for word in words:\r\n",
        "  words_frequency[word.lower()]+=1 # to consider probability not to differentiate lower and uppper case\r\n",
        "\r\n",
        "words_frequency"
      ],
      "execution_count": null,
      "outputs": [
        {
          "output_type": "execute_result",
          "data": {
            "text/plain": [
              "FreqDist({'%': 1,\n",
              "          ',': 5,\n",
              "          '.': 4,\n",
              "          '11': 1,\n",
              "          '15': 1,\n",
              "          '2': 1,\n",
              "          '2001': 1,\n",
              "          '2003': 1,\n",
              "          '2019': 1,\n",
              "          '2020': 2,\n",
              "          '29': 1,\n",
              "          '3': 1,\n",
              "          '50': 1,\n",
              "          '[': 2,\n",
              "          ']': 2,\n",
              "          'all': 1,\n",
              "          'and': 1,\n",
              "          'any': 1,\n",
              "          'april': 1,\n",
              "          'articles': 2,\n",
              "          'as': 3,\n",
              "          'belong': 1,\n",
              "          'declined': 1,\n",
              "          'due': 1,\n",
              "          'edition': 4,\n",
              "          'encyclopedia': 1,\n",
              "          'english': 1,\n",
              "          'english-language': 2,\n",
              "          'first': 1,\n",
              "          'founded': 1,\n",
              "          'free': 1,\n",
              "          'from': 1,\n",
              "          'gradually': 1,\n",
              "          'growth': 1,\n",
              "          'has': 2,\n",
              "          'in': 3,\n",
              "          'is': 2,\n",
              "          'it': 1,\n",
              "          'january': 1,\n",
              "          'languages': 1,\n",
              "          'more': 1,\n",
              "          'most': 1,\n",
              "          'october': 2,\n",
              "          'of': 8,\n",
              "          'on': 1,\n",
              "          'online': 1,\n",
              "          'other': 1,\n",
              "          'percent': 1,\n",
              "          'share': 1,\n",
              "          'than': 1,\n",
              "          'the': 7,\n",
              "          'this': 1,\n",
              "          'to': 2,\n",
              "          'wikipedia': 3,\n",
              "          'wikipedias': 2})"
            ]
          },
          "metadata": {
            "tags": []
          },
          "execution_count": 35
        }
      ]
    },
    {
      "cell_type": "code",
      "metadata": {
        "colab": {
          "base_uri": "https://localhost:8080/"
        },
        "id": "ktQThWW1lDDP",
        "outputId": "734f0d4a-7c7f-4774-d163-5293906f61ee"
      },
      "source": [
        "words_most=words_frequency.most_common(10)\r\n",
        "words_most"
      ],
      "execution_count": null,
      "outputs": [
        {
          "output_type": "execute_result",
          "data": {
            "text/plain": [
              "[('of', 8),\n",
              " ('the', 7),\n",
              " (',', 5),\n",
              " ('edition', 4),\n",
              " ('.', 4),\n",
              " ('wikipedia', 3),\n",
              " ('as', 3),\n",
              " ('in', 3),\n",
              " ('is', 2),\n",
              " ('english-language', 2)]"
            ]
          },
          "metadata": {
            "tags": []
          },
          "execution_count": 36
        }
      ]
    },
    {
      "cell_type": "code",
      "metadata": {
        "colab": {
          "base_uri": "https://localhost:8080/"
        },
        "id": "SWum8T1HlzEi",
        "outputId": "0ff5295f-9fdc-4585-eb00-460c66cc4173"
      },
      "source": [
        "from nltk import blankline_tokenize # wrt the blank line or a new line and find paragraphs\r\n",
        "st_paras=blankline_tokenize(st)\r\n",
        "len(st_paras)\r\n"
      ],
      "execution_count": null,
      "outputs": [
        {
          "output_type": "execute_result",
          "data": {
            "text/plain": [
              "1"
            ]
          },
          "metadata": {
            "tags": []
          },
          "execution_count": 38
        }
      ]
    },
    {
      "cell_type": "code",
      "metadata": {
        "id": "CRq92oifpdGg"
      },
      "source": [
        "# N - Gram : Tokens of three consecutive written words\r\n",
        "from nltk.util import bigrams, trigrams, ngrams"
      ],
      "execution_count": null,
      "outputs": []
    },
    {
      "cell_type": "code",
      "metadata": {
        "id": "sNPtuPuMp6yR"
      },
      "source": [
        "string = \"The best and most beautiful things in the world can't be seen or even touched, they must be felt with the heart. An Intelligent can accomplish what he knows but a passionate person can achieve what he wants to. Hence Passion will always be a greater motivating force than intelligence\""
      ],
      "execution_count": null,
      "outputs": []
    },
    {
      "cell_type": "code",
      "metadata": {
        "colab": {
          "base_uri": "https://localhost:8080/"
        },
        "id": "fcILQaxTqhah",
        "outputId": "73ab531f-86fd-4ede-c268-0f92a923852e"
      },
      "source": [
        "words_tokens= word_tokenize(string)\r\n",
        "words_tokens"
      ],
      "execution_count": null,
      "outputs": [
        {
          "output_type": "execute_result",
          "data": {
            "text/plain": [
              "['The',\n",
              " 'best',\n",
              " 'and',\n",
              " 'most',\n",
              " 'beautiful',\n",
              " 'things',\n",
              " 'in',\n",
              " 'the',\n",
              " 'world',\n",
              " 'ca',\n",
              " \"n't\",\n",
              " 'be',\n",
              " 'seen',\n",
              " 'or',\n",
              " 'even',\n",
              " 'touched',\n",
              " ',',\n",
              " 'they',\n",
              " 'must',\n",
              " 'be',\n",
              " 'felt',\n",
              " 'with',\n",
              " 'the',\n",
              " 'heart',\n",
              " '.',\n",
              " 'An',\n",
              " 'Intelligent',\n",
              " 'can',\n",
              " 'accomplish',\n",
              " 'what',\n",
              " 'he',\n",
              " 'knows',\n",
              " 'but',\n",
              " 'a',\n",
              " 'passionate',\n",
              " 'person',\n",
              " 'can',\n",
              " 'achieve',\n",
              " 'what',\n",
              " 'he',\n",
              " 'wants',\n",
              " 'to',\n",
              " '.',\n",
              " 'Hence',\n",
              " 'Passion',\n",
              " 'will',\n",
              " 'always',\n",
              " 'be',\n",
              " 'a',\n",
              " 'greater',\n",
              " 'motivating',\n",
              " 'force',\n",
              " 'than',\n",
              " 'intelligence']"
            ]
          },
          "metadata": {
            "tags": []
          },
          "execution_count": 49
        }
      ]
    },
    {
      "cell_type": "code",
      "metadata": {
        "colab": {
          "base_uri": "https://localhost:8080/"
        },
        "id": "puJ7c38Vq0ld",
        "outputId": "4e91b10f-76f3-44fd-ab40-e43eee868ea0"
      },
      "source": [
        "words_bigrams=list(nltk.bigrams(words_tokens))\r\n",
        "words_bigrams"
      ],
      "execution_count": null,
      "outputs": [
        {
          "output_type": "execute_result",
          "data": {
            "text/plain": [
              "[('The', 'best'),\n",
              " ('best', 'and'),\n",
              " ('and', 'most'),\n",
              " ('most', 'beautiful'),\n",
              " ('beautiful', 'things'),\n",
              " ('things', 'in'),\n",
              " ('in', 'the'),\n",
              " ('the', 'world'),\n",
              " ('world', 'ca'),\n",
              " ('ca', \"n't\"),\n",
              " (\"n't\", 'be'),\n",
              " ('be', 'seen'),\n",
              " ('seen', 'or'),\n",
              " ('or', 'even'),\n",
              " ('even', 'touched'),\n",
              " ('touched', ','),\n",
              " (',', 'they'),\n",
              " ('they', 'must'),\n",
              " ('must', 'be'),\n",
              " ('be', 'felt'),\n",
              " ('felt', 'with'),\n",
              " ('with', 'the'),\n",
              " ('the', 'heart'),\n",
              " ('heart', '.'),\n",
              " ('.', 'An'),\n",
              " ('An', 'Intelligent'),\n",
              " ('Intelligent', 'can'),\n",
              " ('can', 'accomplish'),\n",
              " ('accomplish', 'what'),\n",
              " ('what', 'he'),\n",
              " ('he', 'knows'),\n",
              " ('knows', 'but'),\n",
              " ('but', 'a'),\n",
              " ('a', 'passionate'),\n",
              " ('passionate', 'person'),\n",
              " ('person', 'can'),\n",
              " ('can', 'achieve'),\n",
              " ('achieve', 'what'),\n",
              " ('what', 'he'),\n",
              " ('he', 'wants'),\n",
              " ('wants', 'to'),\n",
              " ('to', '.'),\n",
              " ('.', 'Hence'),\n",
              " ('Hence', 'Passion'),\n",
              " ('Passion', 'will'),\n",
              " ('will', 'always'),\n",
              " ('always', 'be'),\n",
              " ('be', 'a'),\n",
              " ('a', 'greater'),\n",
              " ('greater', 'motivating'),\n",
              " ('motivating', 'force'),\n",
              " ('force', 'than'),\n",
              " ('than', 'intelligence')]"
            ]
          },
          "metadata": {
            "tags": []
          },
          "execution_count": 51
        }
      ]
    },
    {
      "cell_type": "code",
      "metadata": {
        "colab": {
          "base_uri": "https://localhost:8080/"
        },
        "id": "B85G79_ErKE5",
        "outputId": "3b8210f5-0d04-43eb-f151-3cea9f7e67f3"
      },
      "source": [
        "words_trigrams= list(nltk.trigrams(words_tokens))\r\n",
        "words_trigrams"
      ],
      "execution_count": null,
      "outputs": [
        {
          "output_type": "execute_result",
          "data": {
            "text/plain": [
              "[('The', 'best', 'and'),\n",
              " ('best', 'and', 'most'),\n",
              " ('and', 'most', 'beautiful'),\n",
              " ('most', 'beautiful', 'things'),\n",
              " ('beautiful', 'things', 'in'),\n",
              " ('things', 'in', 'the'),\n",
              " ('in', 'the', 'world'),\n",
              " ('the', 'world', 'ca'),\n",
              " ('world', 'ca', \"n't\"),\n",
              " ('ca', \"n't\", 'be'),\n",
              " (\"n't\", 'be', 'seen'),\n",
              " ('be', 'seen', 'or'),\n",
              " ('seen', 'or', 'even'),\n",
              " ('or', 'even', 'touched'),\n",
              " ('even', 'touched', ','),\n",
              " ('touched', ',', 'they'),\n",
              " (',', 'they', 'must'),\n",
              " ('they', 'must', 'be'),\n",
              " ('must', 'be', 'felt'),\n",
              " ('be', 'felt', 'with'),\n",
              " ('felt', 'with', 'the'),\n",
              " ('with', 'the', 'heart'),\n",
              " ('the', 'heart', '.'),\n",
              " ('heart', '.', 'An'),\n",
              " ('.', 'An', 'Intelligent'),\n",
              " ('An', 'Intelligent', 'can'),\n",
              " ('Intelligent', 'can', 'accomplish'),\n",
              " ('can', 'accomplish', 'what'),\n",
              " ('accomplish', 'what', 'he'),\n",
              " ('what', 'he', 'knows'),\n",
              " ('he', 'knows', 'but'),\n",
              " ('knows', 'but', 'a'),\n",
              " ('but', 'a', 'passionate'),\n",
              " ('a', 'passionate', 'person'),\n",
              " ('passionate', 'person', 'can'),\n",
              " ('person', 'can', 'achieve'),\n",
              " ('can', 'achieve', 'what'),\n",
              " ('achieve', 'what', 'he'),\n",
              " ('what', 'he', 'wants'),\n",
              " ('he', 'wants', 'to'),\n",
              " ('wants', 'to', '.'),\n",
              " ('to', '.', 'Hence'),\n",
              " ('.', 'Hence', 'Passion'),\n",
              " ('Hence', 'Passion', 'will'),\n",
              " ('Passion', 'will', 'always'),\n",
              " ('will', 'always', 'be'),\n",
              " ('always', 'be', 'a'),\n",
              " ('be', 'a', 'greater'),\n",
              " ('a', 'greater', 'motivating'),\n",
              " ('greater', 'motivating', 'force'),\n",
              " ('motivating', 'force', 'than'),\n",
              " ('force', 'than', 'intelligence')]"
            ]
          },
          "metadata": {
            "tags": []
          },
          "execution_count": 53
        }
      ]
    },
    {
      "cell_type": "code",
      "metadata": {
        "colab": {
          "base_uri": "https://localhost:8080/"
        },
        "id": "-WXrmg5erT1f",
        "outputId": "55e463bc-cb00-4c48-8f1d-eda998f2b18c"
      },
      "source": [
        "words_trigrams= list(nltk.ngrams(words_tokens,4))\r\n",
        "words_trigrams"
      ],
      "execution_count": null,
      "outputs": [
        {
          "output_type": "execute_result",
          "data": {
            "text/plain": [
              "[('The', 'best', 'and', 'most'),\n",
              " ('best', 'and', 'most', 'beautiful'),\n",
              " ('and', 'most', 'beautiful', 'things'),\n",
              " ('most', 'beautiful', 'things', 'in'),\n",
              " ('beautiful', 'things', 'in', 'the'),\n",
              " ('things', 'in', 'the', 'world'),\n",
              " ('in', 'the', 'world', 'ca'),\n",
              " ('the', 'world', 'ca', \"n't\"),\n",
              " ('world', 'ca', \"n't\", 'be'),\n",
              " ('ca', \"n't\", 'be', 'seen'),\n",
              " (\"n't\", 'be', 'seen', 'or'),\n",
              " ('be', 'seen', 'or', 'even'),\n",
              " ('seen', 'or', 'even', 'touched'),\n",
              " ('or', 'even', 'touched', ','),\n",
              " ('even', 'touched', ',', 'they'),\n",
              " ('touched', ',', 'they', 'must'),\n",
              " (',', 'they', 'must', 'be'),\n",
              " ('they', 'must', 'be', 'felt'),\n",
              " ('must', 'be', 'felt', 'with'),\n",
              " ('be', 'felt', 'with', 'the'),\n",
              " ('felt', 'with', 'the', 'heart'),\n",
              " ('with', 'the', 'heart', '.'),\n",
              " ('the', 'heart', '.', 'An'),\n",
              " ('heart', '.', 'An', 'Intelligent'),\n",
              " ('.', 'An', 'Intelligent', 'can'),\n",
              " ('An', 'Intelligent', 'can', 'accomplish'),\n",
              " ('Intelligent', 'can', 'accomplish', 'what'),\n",
              " ('can', 'accomplish', 'what', 'he'),\n",
              " ('accomplish', 'what', 'he', 'knows'),\n",
              " ('what', 'he', 'knows', 'but'),\n",
              " ('he', 'knows', 'but', 'a'),\n",
              " ('knows', 'but', 'a', 'passionate'),\n",
              " ('but', 'a', 'passionate', 'person'),\n",
              " ('a', 'passionate', 'person', 'can'),\n",
              " ('passionate', 'person', 'can', 'achieve'),\n",
              " ('person', 'can', 'achieve', 'what'),\n",
              " ('can', 'achieve', 'what', 'he'),\n",
              " ('achieve', 'what', 'he', 'wants'),\n",
              " ('what', 'he', 'wants', 'to'),\n",
              " ('he', 'wants', 'to', '.'),\n",
              " ('wants', 'to', '.', 'Hence'),\n",
              " ('to', '.', 'Hence', 'Passion'),\n",
              " ('.', 'Hence', 'Passion', 'will'),\n",
              " ('Hence', 'Passion', 'will', 'always'),\n",
              " ('Passion', 'will', 'always', 'be'),\n",
              " ('will', 'always', 'be', 'a'),\n",
              " ('always', 'be', 'a', 'greater'),\n",
              " ('be', 'a', 'greater', 'motivating'),\n",
              " ('a', 'greater', 'motivating', 'force'),\n",
              " ('greater', 'motivating', 'force', 'than'),\n",
              " ('motivating', 'force', 'than', 'intelligence')]"
            ]
          },
          "metadata": {
            "tags": []
          },
          "execution_count": 54
        }
      ]
    },
    {
      "cell_type": "code",
      "metadata": {
        "id": "wGKHnu7vrfLi"
      },
      "source": [
        "from nltk.stem import PorterStemmer,LancasterStemmer # Normalize the words into base or root form. Not always the root form . Works based on cutting the edge or at the begining \r\n",
        "pst=PorterStemmer()\r\n",
        "lcst=LancasterStemmer()"
      ],
      "execution_count": null,
      "outputs": []
    },
    {
      "cell_type": "code",
      "metadata": {
        "colab": {
          "base_uri": "https://localhost:8080/",
          "height": 35
        },
        "id": "58VFNTFfr1od",
        "outputId": "ce24e00f-a79e-4e1a-fdd3-855170a0747e"
      },
      "source": [
        "pst.stem('going')"
      ],
      "execution_count": null,
      "outputs": [
        {
          "output_type": "execute_result",
          "data": {
            "application/vnd.google.colaboratory.intrinsic+json": {
              "type": "string"
            },
            "text/plain": [
              "'go'"
            ]
          },
          "metadata": {
            "tags": []
          },
          "execution_count": 58
        }
      ]
    },
    {
      "cell_type": "code",
      "metadata": {
        "colab": {
          "base_uri": "https://localhost:8080/"
        },
        "id": "Hnmwdpoir-Tl",
        "outputId": "d3ade3d4-f90f-4cc1-d14a-1673d90e731a"
      },
      "source": [
        "wrds_to_stem=['give','giving','given']\r\n",
        "for word in wrds_to_stem:\r\n",
        "  print(word,':' + pst.stem(word))"
      ],
      "execution_count": null,
      "outputs": [
        {
          "output_type": "stream",
          "text": [
            "give :give\n",
            "giving :give\n",
            "given :given\n"
          ],
          "name": "stdout"
        }
      ]
    },
    {
      "cell_type": "code",
      "metadata": {
        "colab": {
          "base_uri": "https://localhost:8080/"
        },
        "id": "v91KQCxesWLs",
        "outputId": "ad2b8540-326b-4c53-af43-73cdd570d8c4"
      },
      "source": [
        "wrds_to_stem=['give','giving','given']\r\n",
        "for word in wrds_to_stem:\r\n",
        "  print(word,':' + lcst.stem(word))      # More agressive than porter stemmer"
      ],
      "execution_count": null,
      "outputs": [
        {
          "output_type": "stream",
          "text": [
            "give :giv\n",
            "giving :giv\n",
            "given :giv\n"
          ],
          "name": "stdout"
        }
      ]
    },
    {
      "cell_type": "code",
      "metadata": {
        "colab": {
          "base_uri": "https://localhost:8080/",
          "height": 35
        },
        "id": "NzEro42Nstx3",
        "outputId": "49cd5cfd-f966-4cbc-a857-c98abfac2a2c"
      },
      "source": [
        "pst.stem('ing')"
      ],
      "execution_count": null,
      "outputs": [
        {
          "output_type": "execute_result",
          "data": {
            "application/vnd.google.colaboratory.intrinsic+json": {
              "type": "string"
            },
            "text/plain": [
              "'ing'"
            ]
          },
          "metadata": {
            "tags": []
          },
          "execution_count": 64
        }
      ]
    },
    {
      "cell_type": "code",
      "metadata": {
        "id": "W8HhFlI_s_gZ"
      },
      "source": [
        "# Output of Lemmatization is a root word. Hence it needs a dictionary\r\n",
        "# Ex : go, went, gone --> Lemma is a go"
      ],
      "execution_count": null,
      "outputs": []
    },
    {
      "cell_type": "code",
      "metadata": {
        "id": "uzijFkVItgNS"
      },
      "source": [
        "from nltk.stem import wordnet,WordNetLemmatizer"
      ],
      "execution_count": null,
      "outputs": []
    },
    {
      "cell_type": "code",
      "metadata": {
        "id": "ynmyJqMQt1ws"
      },
      "source": [
        "word_lem=WordNetLemmatizer()"
      ],
      "execution_count": null,
      "outputs": []
    },
    {
      "cell_type": "code",
      "metadata": {
        "colab": {
          "base_uri": "https://localhost:8080/"
        },
        "id": "laY7R0mVuIu5",
        "outputId": "17bac5ed-c89b-4c2e-d03c-f3b7ebcb1dcd"
      },
      "source": [
        "nltk.download('wordnet')"
      ],
      "execution_count": null,
      "outputs": [
        {
          "output_type": "stream",
          "text": [
            "[nltk_data] Downloading package wordnet to /root/nltk_data...\n",
            "[nltk_data]   Unzipping corpora/wordnet.zip.\n"
          ],
          "name": "stdout"
        },
        {
          "output_type": "execute_result",
          "data": {
            "text/plain": [
              "True"
            ]
          },
          "metadata": {
            "tags": []
          },
          "execution_count": 71
        }
      ]
    },
    {
      "cell_type": "code",
      "metadata": {
        "colab": {
          "base_uri": "https://localhost:8080/"
        },
        "id": "XoLzK8J1t7lQ",
        "outputId": "f5674199-57aa-421e-8c1a-77f1de5de7c8"
      },
      "source": [
        "for word in wrds_to_stem:\r\n",
        "  print(word,':' + word_lem.lemmatize(word))"
      ],
      "execution_count": null,
      "outputs": [
        {
          "output_type": "stream",
          "text": [
            "give :give\n",
            "giving :giving\n",
            "given :given\n"
          ],
          "name": "stdout"
        }
      ]
    },
    {
      "cell_type": "code",
      "metadata": {
        "colab": {
          "base_uri": "https://localhost:8080/"
        },
        "id": "VMqsSNQwuRLQ",
        "outputId": "e81f8760-fd2a-44d8-a2c8-b65dfbd8a3eb"
      },
      "source": [
        "wrds_to_lemma =['go','went','gone','goings']\r\n",
        "for word in wrds_to_lemma:\r\n",
        "  print(word,':' + word_lem.lemmatize(word))"
      ],
      "execution_count": null,
      "outputs": [
        {
          "output_type": "stream",
          "text": [
            "go :go\n",
            "went :went\n",
            "gone :gone\n",
            "goings :going\n"
          ],
          "name": "stdout"
        }
      ]
    },
    {
      "cell_type": "code",
      "metadata": {
        "id": "yJ-_P-NuuuQc"
      },
      "source": [
        "# stop words are helpful in the formation of sentences but not helpful in the processing of language"
      ],
      "execution_count": null,
      "outputs": []
    },
    {
      "cell_type": "code",
      "metadata": {
        "id": "jz2-FSvKvPcB"
      },
      "source": [
        "from nltk.corpus import stopwords"
      ],
      "execution_count": null,
      "outputs": []
    },
    {
      "cell_type": "code",
      "metadata": {
        "colab": {
          "base_uri": "https://localhost:8080/"
        },
        "id": "HYGSg-fDvWmT",
        "outputId": "8d6d7253-bbe4-4f0d-9337-b0991077455d"
      },
      "source": [
        "nltk.download('stopwords')"
      ],
      "execution_count": null,
      "outputs": [
        {
          "output_type": "stream",
          "text": [
            "[nltk_data] Downloading package stopwords to /root/nltk_data...\n",
            "[nltk_data]   Unzipping corpora/stopwords.zip.\n"
          ],
          "name": "stdout"
        },
        {
          "output_type": "execute_result",
          "data": {
            "text/plain": [
              "True"
            ]
          },
          "metadata": {
            "tags": []
          },
          "execution_count": 79
        }
      ]
    },
    {
      "cell_type": "code",
      "metadata": {
        "colab": {
          "base_uri": "https://localhost:8080/"
        },
        "id": "-WcZDBKrvS9q",
        "outputId": "797418a0-5fed-46fe-a7ba-4ba8fe0939cc"
      },
      "source": [
        "stopwords.words('english')"
      ],
      "execution_count": null,
      "outputs": [
        {
          "output_type": "execute_result",
          "data": {
            "text/plain": [
              "['i',\n",
              " 'me',\n",
              " 'my',\n",
              " 'myself',\n",
              " 'we',\n",
              " 'our',\n",
              " 'ours',\n",
              " 'ourselves',\n",
              " 'you',\n",
              " \"you're\",\n",
              " \"you've\",\n",
              " \"you'll\",\n",
              " \"you'd\",\n",
              " 'your',\n",
              " 'yours',\n",
              " 'yourself',\n",
              " 'yourselves',\n",
              " 'he',\n",
              " 'him',\n",
              " 'his',\n",
              " 'himself',\n",
              " 'she',\n",
              " \"she's\",\n",
              " 'her',\n",
              " 'hers',\n",
              " 'herself',\n",
              " 'it',\n",
              " \"it's\",\n",
              " 'its',\n",
              " 'itself',\n",
              " 'they',\n",
              " 'them',\n",
              " 'their',\n",
              " 'theirs',\n",
              " 'themselves',\n",
              " 'what',\n",
              " 'which',\n",
              " 'who',\n",
              " 'whom',\n",
              " 'this',\n",
              " 'that',\n",
              " \"that'll\",\n",
              " 'these',\n",
              " 'those',\n",
              " 'am',\n",
              " 'is',\n",
              " 'are',\n",
              " 'was',\n",
              " 'were',\n",
              " 'be',\n",
              " 'been',\n",
              " 'being',\n",
              " 'have',\n",
              " 'has',\n",
              " 'had',\n",
              " 'having',\n",
              " 'do',\n",
              " 'does',\n",
              " 'did',\n",
              " 'doing',\n",
              " 'a',\n",
              " 'an',\n",
              " 'the',\n",
              " 'and',\n",
              " 'but',\n",
              " 'if',\n",
              " 'or',\n",
              " 'because',\n",
              " 'as',\n",
              " 'until',\n",
              " 'while',\n",
              " 'of',\n",
              " 'at',\n",
              " 'by',\n",
              " 'for',\n",
              " 'with',\n",
              " 'about',\n",
              " 'against',\n",
              " 'between',\n",
              " 'into',\n",
              " 'through',\n",
              " 'during',\n",
              " 'before',\n",
              " 'after',\n",
              " 'above',\n",
              " 'below',\n",
              " 'to',\n",
              " 'from',\n",
              " 'up',\n",
              " 'down',\n",
              " 'in',\n",
              " 'out',\n",
              " 'on',\n",
              " 'off',\n",
              " 'over',\n",
              " 'under',\n",
              " 'again',\n",
              " 'further',\n",
              " 'then',\n",
              " 'once',\n",
              " 'here',\n",
              " 'there',\n",
              " 'when',\n",
              " 'where',\n",
              " 'why',\n",
              " 'how',\n",
              " 'all',\n",
              " 'any',\n",
              " 'both',\n",
              " 'each',\n",
              " 'few',\n",
              " 'more',\n",
              " 'most',\n",
              " 'other',\n",
              " 'some',\n",
              " 'such',\n",
              " 'no',\n",
              " 'nor',\n",
              " 'not',\n",
              " 'only',\n",
              " 'own',\n",
              " 'same',\n",
              " 'so',\n",
              " 'than',\n",
              " 'too',\n",
              " 'very',\n",
              " 's',\n",
              " 't',\n",
              " 'can',\n",
              " 'will',\n",
              " 'just',\n",
              " 'don',\n",
              " \"don't\",\n",
              " 'should',\n",
              " \"should've\",\n",
              " 'now',\n",
              " 'd',\n",
              " 'll',\n",
              " 'm',\n",
              " 'o',\n",
              " 're',\n",
              " 've',\n",
              " 'y',\n",
              " 'ain',\n",
              " 'aren',\n",
              " \"aren't\",\n",
              " 'couldn',\n",
              " \"couldn't\",\n",
              " 'didn',\n",
              " \"didn't\",\n",
              " 'doesn',\n",
              " \"doesn't\",\n",
              " 'hadn',\n",
              " \"hadn't\",\n",
              " 'hasn',\n",
              " \"hasn't\",\n",
              " 'haven',\n",
              " \"haven't\",\n",
              " 'isn',\n",
              " \"isn't\",\n",
              " 'ma',\n",
              " 'mightn',\n",
              " \"mightn't\",\n",
              " 'mustn',\n",
              " \"mustn't\",\n",
              " 'needn',\n",
              " \"needn't\",\n",
              " 'shan',\n",
              " \"shan't\",\n",
              " 'shouldn',\n",
              " \"shouldn't\",\n",
              " 'wasn',\n",
              " \"wasn't\",\n",
              " 'weren',\n",
              " \"weren't\",\n",
              " 'won',\n",
              " \"won't\",\n",
              " 'wouldn',\n",
              " \"wouldn't\"]"
            ]
          },
          "metadata": {
            "tags": []
          },
          "execution_count": 80
        }
      ]
    },
    {
      "cell_type": "code",
      "metadata": {
        "colab": {
          "base_uri": "https://localhost:8080/"
        },
        "id": "MeHRc5ovvZwD",
        "outputId": "0067f463-4b1a-4401-d346-ffea5c327139"
      },
      "source": [
        "len(stopwords.words('english'))"
      ],
      "execution_count": null,
      "outputs": [
        {
          "output_type": "execute_result",
          "data": {
            "text/plain": [
              "179"
            ]
          },
          "metadata": {
            "tags": []
          },
          "execution_count": 81
        }
      ]
    },
    {
      "cell_type": "code",
      "metadata": {
        "colab": {
          "base_uri": "https://localhost:8080/"
        },
        "id": "EEuzV1m7vhVz",
        "outputId": "d74695b5-c76f-44e9-fdfc-2cb1ffdcf08d"
      },
      "source": [
        "words_most"
      ],
      "execution_count": null,
      "outputs": [
        {
          "output_type": "execute_result",
          "data": {
            "text/plain": [
              "[('of', 8),\n",
              " ('the', 7),\n",
              " (',', 5),\n",
              " ('edition', 4),\n",
              " ('.', 4),\n",
              " ('wikipedia', 3),\n",
              " ('as', 3),\n",
              " ('in', 3),\n",
              " ('is', 2),\n",
              " ('english-language', 2)]"
            ]
          },
          "metadata": {
            "tags": []
          },
          "execution_count": 82
        }
      ]
    },
    {
      "cell_type": "code",
      "metadata": {
        "id": "qA59N-XRvrzc"
      },
      "source": [
        "import re\r\n",
        "words_waste=re.compile('[^-,!.:;()|0-9]')"
      ],
      "execution_count": null,
      "outputs": []
    },
    {
      "cell_type": "code",
      "metadata": {
        "colab": {
          "base_uri": "https://localhost:8080/",
          "height": 69
        },
        "id": "pT7zPaa_xx-t",
        "outputId": "28b2c14a-1356-4e4e-a8e5-5abe947e337b"
      },
      "source": [
        "words_waste.sub(\" \",st)"
      ],
      "execution_count": null,
      "outputs": [
        {
          "output_type": "execute_result",
          "data": {
            "application/vnd.google.colaboratory.intrinsic+json": {
              "type": "string"
            },
            "text/plain": [
              "'                                    -                                                          .            15         2001,                                         ,             2019,                                     . 2                2020, 11                                                     -                .                                                  50            2003,                                                   . 3        29         2020'"
            ]
          },
          "metadata": {
            "tags": []
          },
          "execution_count": 87
        }
      ]
    },
    {
      "cell_type": "code",
      "metadata": {
        "colab": {
          "base_uri": "https://localhost:8080/"
        },
        "id": "ZWT_3zsex2BE",
        "outputId": "a6b762a0-c967-4826-8568-fc1b71184ebb"
      },
      "source": [
        "words_tokens"
      ],
      "execution_count": null,
      "outputs": [
        {
          "output_type": "execute_result",
          "data": {
            "text/plain": [
              "['The',\n",
              " 'best',\n",
              " 'and',\n",
              " 'most',\n",
              " 'beautiful',\n",
              " 'things',\n",
              " 'in',\n",
              " 'the',\n",
              " 'world',\n",
              " 'ca',\n",
              " \"n't\",\n",
              " 'be',\n",
              " 'seen',\n",
              " 'or',\n",
              " 'even',\n",
              " 'touched',\n",
              " ',',\n",
              " 'they',\n",
              " 'must',\n",
              " 'be',\n",
              " 'felt',\n",
              " 'with',\n",
              " 'the',\n",
              " 'heart',\n",
              " '.',\n",
              " 'An',\n",
              " 'Intelligent',\n",
              " 'can',\n",
              " 'accomplish',\n",
              " 'what',\n",
              " 'he',\n",
              " 'knows',\n",
              " 'but',\n",
              " 'a',\n",
              " 'passionate',\n",
              " 'person',\n",
              " 'can',\n",
              " 'achieve',\n",
              " 'what',\n",
              " 'he',\n",
              " 'wants',\n",
              " 'to',\n",
              " '.',\n",
              " 'Hence',\n",
              " 'Passion',\n",
              " 'will',\n",
              " 'always',\n",
              " 'be',\n",
              " 'a',\n",
              " 'greater',\n",
              " 'motivating',\n",
              " 'force',\n",
              " 'than',\n",
              " 'intelligence']"
            ]
          },
          "metadata": {
            "tags": []
          },
          "execution_count": 88
        }
      ]
    },
    {
      "cell_type": "code",
      "metadata": {
        "colab": {
          "base_uri": "https://localhost:8080/"
        },
        "id": "RkZ_kK1Ezj0X",
        "outputId": "5d16e314-ecf3-42c1-b28f-4ce0eca8b3b6"
      },
      "source": [
        "nltk.download('averaged_perceptron_tagger')"
      ],
      "execution_count": null,
      "outputs": [
        {
          "output_type": "stream",
          "text": [
            "[nltk_data] Downloading package averaged_perceptron_tagger to\n",
            "[nltk_data]     /root/nltk_data...\n",
            "[nltk_data]   Unzipping taggers/averaged_perceptron_tagger.zip.\n"
          ],
          "name": "stdout"
        },
        {
          "output_type": "execute_result",
          "data": {
            "text/plain": [
              "True"
            ]
          },
          "metadata": {
            "tags": []
          },
          "execution_count": 91
        }
      ]
    },
    {
      "cell_type": "code",
      "metadata": {
        "colab": {
          "base_uri": "https://localhost:8080/"
        },
        "id": "iTPEG9DIzOk7",
        "outputId": "a1155621-b838-423a-842a-36615ac0b123"
      },
      "source": [
        "for token in words_tokens:\r\n",
        "  print(token, ':', nltk.pos_tag([token])) # DT - Determiner, NN - Noun, JJS - Adjective, "
      ],
      "execution_count": null,
      "outputs": [
        {
          "output_type": "stream",
          "text": [
            "The : [('The', 'DT')]\n",
            "best : [('best', 'JJS')]\n",
            "and : [('and', 'CC')]\n",
            "most : [('most', 'JJS')]\n",
            "beautiful : [('beautiful', 'NN')]\n",
            "things : [('things', 'NNS')]\n",
            "in : [('in', 'IN')]\n",
            "the : [('the', 'DT')]\n",
            "world : [('world', 'NN')]\n",
            "ca : [('ca', 'MD')]\n",
            "n't : [(\"n't\", 'RB')]\n",
            "be : [('be', 'VB')]\n",
            "seen : [('seen', 'VBN')]\n",
            "or : [('or', 'CC')]\n",
            "even : [('even', 'RB')]\n",
            "touched : [('touched', 'VBN')]\n",
            ", : [(',', ',')]\n",
            "they : [('they', 'PRP')]\n",
            "must : [('must', 'MD')]\n",
            "be : [('be', 'VB')]\n",
            "felt : [('felt', 'NN')]\n",
            "with : [('with', 'IN')]\n",
            "the : [('the', 'DT')]\n",
            "heart : [('heart', 'NN')]\n",
            ". : [('.', '.')]\n",
            "An : [('An', 'DT')]\n",
            "Intelligent : [('Intelligent', 'NN')]\n",
            "can : [('can', 'MD')]\n",
            "accomplish : [('accomplish', 'NN')]\n",
            "what : [('what', 'WP')]\n",
            "he : [('he', 'PRP')]\n",
            "knows : [('knows', 'NNS')]\n",
            "but : [('but', 'CC')]\n",
            "a : [('a', 'DT')]\n",
            "passionate : [('passionate', 'NN')]\n",
            "person : [('person', 'NN')]\n",
            "can : [('can', 'MD')]\n",
            "achieve : [('achieve', 'NN')]\n",
            "what : [('what', 'WP')]\n",
            "he : [('he', 'PRP')]\n",
            "wants : [('wants', 'VBZ')]\n",
            "to : [('to', 'TO')]\n",
            ". : [('.', '.')]\n",
            "Hence : [('Hence', 'NN')]\n",
            "Passion : [('Passion', 'NN')]\n",
            "will : [('will', 'MD')]\n",
            "always : [('always', 'RB')]\n",
            "be : [('be', 'VB')]\n",
            "a : [('a', 'DT')]\n",
            "greater : [('greater', 'JJR')]\n",
            "motivating : [('motivating', 'VBG')]\n",
            "force : [('force', 'NN')]\n",
            "than : [('than', 'IN')]\n",
            "intelligence : [('intelligence', 'NN')]\n"
          ],
          "name": "stdout"
        }
      ]
    },
    {
      "cell_type": "code",
      "metadata": {
        "colab": {
          "base_uri": "https://localhost:8080/"
        },
        "id": "6GQHN6z227Da",
        "outputId": "f553eb11-b5f6-48de-e7a0-111cbaa1ee1f"
      },
      "source": [
        "nltk.download('maxent_ne_chunker')\r\n",
        "nltk.download('words')"
      ],
      "execution_count": null,
      "outputs": [
        {
          "output_type": "stream",
          "text": [
            "[nltk_data] Downloading package maxent_ne_chunker to\n",
            "[nltk_data]     /root/nltk_data...\n",
            "[nltk_data]   Package maxent_ne_chunker is already up-to-date!\n",
            "[nltk_data] Downloading package words to /root/nltk_data...\n",
            "[nltk_data]   Unzipping corpora/words.zip.\n"
          ],
          "name": "stdout"
        },
        {
          "output_type": "execute_result",
          "data": {
            "text/plain": [
              "True"
            ]
          },
          "metadata": {
            "tags": []
          },
          "execution_count": 102
        }
      ]
    },
    {
      "cell_type": "code",
      "metadata": {
        "id": "eJzKf_3uzfvg"
      },
      "source": [
        "from nltk import ne_chunk"
      ],
      "execution_count": null,
      "outputs": []
    },
    {
      "cell_type": "code",
      "metadata": {
        "id": "juKOIVam2X1c"
      },
      "source": [
        "ne_string='US President Stays in white House'"
      ],
      "execution_count": null,
      "outputs": []
    },
    {
      "cell_type": "code",
      "metadata": {
        "id": "rC1tVxmJ2fCr"
      },
      "source": [
        "ne_token=word_tokenize(ne_string)\r\n",
        "ne_tags=nltk.pos_tag(ne_token)"
      ],
      "execution_count": null,
      "outputs": []
    },
    {
      "cell_type": "code",
      "metadata": {
        "colab": {
          "base_uri": "https://localhost:8080/"
        },
        "id": "hOc1SrUa2rFb",
        "outputId": "30ce6604-8873-46c3-ad18-a5c8ec296e85"
      },
      "source": [
        "ne_tags"
      ],
      "execution_count": null,
      "outputs": [
        {
          "output_type": "execute_result",
          "data": {
            "text/plain": [
              "[('US', 'NNP'),\n",
              " ('President', 'NNP'),\n",
              " ('Stays', 'NNP'),\n",
              " ('in', 'IN'),\n",
              " ('white', 'JJ'),\n",
              " ('House', 'NNP')]"
            ]
          },
          "metadata": {
            "tags": []
          },
          "execution_count": 98
        }
      ]
    },
    {
      "cell_type": "code",
      "metadata": {
        "colab": {
          "base_uri": "https://localhost:8080/"
        },
        "id": "vloPWjyz2r-C",
        "outputId": "4ef894b9-1e91-4495-943e-a1b4268fc899"
      },
      "source": [
        "ne_n=ne_chunk(ne_tags)\r\n",
        "print(ne_n)"
      ],
      "execution_count": null,
      "outputs": [
        {
          "output_type": "stream",
          "text": [
            "(S\n",
            "  (GPE US/NNP)\n",
            "  President/NNP\n",
            "  (PERSON Stays/NNP)\n",
            "  in/IN\n",
            "  white/JJ\n",
            "  (ORGANIZATION House/NNP))\n"
          ],
          "name": "stdout"
        }
      ]
    },
    {
      "cell_type": "code",
      "metadata": {
        "id": "SXO5Y-mq22ml"
      },
      "source": [
        "grammar_np = r\"NP:{<DT>?<JJ>*<NN>}\""
      ],
      "execution_count": null,
      "outputs": []
    },
    {
      "cell_type": "code",
      "metadata": {
        "id": "vx2E4lmw8e0I"
      },
      "source": [
        "chunk_parser=nltk.RegexpParser(grammar_np)"
      ],
      "execution_count": null,
      "outputs": []
    },
    {
      "cell_type": "code",
      "metadata": {
        "colab": {
          "base_uri": "https://localhost:8080/"
        },
        "id": "kmszVUhC_d7L",
        "outputId": "c5ccbfdf-7ed2-4d6b-8e31-b33836d1cb59"
      },
      "source": [
        "chunk_result=chunk_parser.parse(ne_tags)"
      ],
      "execution_count": null,
      "outputs": [
        {
          "output_type": "execute_result",
          "data": {
            "text/plain": [
              "<chunk.RegexpParser with 1 stages>"
            ]
          },
          "metadata": {
            "tags": []
          },
          "execution_count": 109
        }
      ]
    },
    {
      "cell_type": "code",
      "metadata": {
        "id": "o07t3OND_56p"
      },
      "source": [
        ""
      ],
      "execution_count": null,
      "outputs": []
    }
  ]
}